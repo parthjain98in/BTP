{
 "cells": [
  {
   "cell_type": "code",
   "execution_count": 1,
   "metadata": {},
   "outputs": [],
   "source": [
    "import pandas as pd\n",
    "import numpy as np\n",
    "from matplotlib import pyplot as plt"
   ]
  },
  {
   "cell_type": "code",
   "execution_count": 38,
   "metadata": {},
   "outputs": [],
   "source": [
    "ratings = pd.read_csv(\"ml-latest-small/ratings.csv\")\n",
    "moviesdf = pd.read_csv(\"ml-laatest-small/movies.csv\")"
   ]
  },
  {
   "cell_type": "code",
   "execution_count": 39,
   "metadata": {},
   "outputs": [
    {
     "data": {
      "text/html": [
       "<div>\n",
       "<style scoped>\n",
       "    .dataframe tbody tr th:only-of-type {\n",
       "        vertical-align: middle;\n",
       "    }\n",
       "\n",
       "    .dataframe tbody tr th {\n",
       "        vertical-align: top;\n",
       "    }\n",
       "\n",
       "    .dataframe thead th {\n",
       "        text-align: right;\n",
       "    }\n",
       "</style>\n",
       "<table border=\"1\" class=\"dataframe\">\n",
       "  <thead>\n",
       "    <tr style=\"text-align: right;\">\n",
       "      <th></th>\n",
       "      <th>movieId</th>\n",
       "      <th>title</th>\n",
       "      <th>genres</th>\n",
       "    </tr>\n",
       "  </thead>\n",
       "  <tbody>\n",
       "    <tr>\n",
       "      <th>0</th>\n",
       "      <td>1</td>\n",
       "      <td>Toy Story (1995)</td>\n",
       "      <td>Adventure|Animation|Children|Comedy|Fantasy</td>\n",
       "    </tr>\n",
       "    <tr>\n",
       "      <th>1</th>\n",
       "      <td>2</td>\n",
       "      <td>Jumanji (1995)</td>\n",
       "      <td>Adventure|Children|Fantasy</td>\n",
       "    </tr>\n",
       "    <tr>\n",
       "      <th>2</th>\n",
       "      <td>3</td>\n",
       "      <td>Grumpier Old Men (1995)</td>\n",
       "      <td>Comedy|Romance</td>\n",
       "    </tr>\n",
       "    <tr>\n",
       "      <th>3</th>\n",
       "      <td>4</td>\n",
       "      <td>Waiting to Exhale (1995)</td>\n",
       "      <td>Comedy|Drama|Romance</td>\n",
       "    </tr>\n",
       "    <tr>\n",
       "      <th>4</th>\n",
       "      <td>5</td>\n",
       "      <td>Father of the Bride Part II (1995)</td>\n",
       "      <td>Comedy</td>\n",
       "    </tr>\n",
       "  </tbody>\n",
       "</table>\n",
       "</div>"
      ],
      "text/plain": [
       "   movieId                               title  \\\n",
       "0        1                    Toy Story (1995)   \n",
       "1        2                      Jumanji (1995)   \n",
       "2        3             Grumpier Old Men (1995)   \n",
       "3        4            Waiting to Exhale (1995)   \n",
       "4        5  Father of the Bride Part II (1995)   \n",
       "\n",
       "                                        genres  \n",
       "0  Adventure|Animation|Children|Comedy|Fantasy  \n",
       "1                   Adventure|Children|Fantasy  \n",
       "2                               Comedy|Romance  \n",
       "3                         Comedy|Drama|Romance  \n",
       "4                                       Comedy  "
      ]
     },
     "execution_count": 39,
     "metadata": {},
     "output_type": "execute_result"
    }
   ],
   "source": [
    "moviesdf.head()"
   ]
  },
  {
   "cell_type": "code",
   "execution_count": 40,
   "metadata": {},
   "outputs": [
    {
     "data": {
      "text/html": [
       "<div>\n",
       "<style scoped>\n",
       "    .dataframe tbody tr th:only-of-type {\n",
       "        vertical-align: middle;\n",
       "    }\n",
       "\n",
       "    .dataframe tbody tr th {\n",
       "        vertical-align: top;\n",
       "    }\n",
       "\n",
       "    .dataframe thead th {\n",
       "        text-align: right;\n",
       "    }\n",
       "</style>\n",
       "<table border=\"1\" class=\"dataframe\">\n",
       "  <thead>\n",
       "    <tr style=\"text-align: right;\">\n",
       "      <th></th>\n",
       "      <th>userId</th>\n",
       "      <th>movieId</th>\n",
       "      <th>rating</th>\n",
       "    </tr>\n",
       "  </thead>\n",
       "  <tbody>\n",
       "    <tr>\n",
       "      <th>0</th>\n",
       "      <td>1</td>\n",
       "      <td>1</td>\n",
       "      <td>4.0</td>\n",
       "    </tr>\n",
       "    <tr>\n",
       "      <th>1</th>\n",
       "      <td>1</td>\n",
       "      <td>3</td>\n",
       "      <td>4.0</td>\n",
       "    </tr>\n",
       "    <tr>\n",
       "      <th>2</th>\n",
       "      <td>1</td>\n",
       "      <td>6</td>\n",
       "      <td>4.0</td>\n",
       "    </tr>\n",
       "    <tr>\n",
       "      <th>3</th>\n",
       "      <td>1</td>\n",
       "      <td>47</td>\n",
       "      <td>5.0</td>\n",
       "    </tr>\n",
       "    <tr>\n",
       "      <th>4</th>\n",
       "      <td>1</td>\n",
       "      <td>50</td>\n",
       "      <td>5.0</td>\n",
       "    </tr>\n",
       "  </tbody>\n",
       "</table>\n",
       "</div>"
      ],
      "text/plain": [
       "   userId  movieId  rating\n",
       "0       1        1     4.0\n",
       "1       1        3     4.0\n",
       "2       1        6     4.0\n",
       "3       1       47     5.0\n",
       "4       1       50     5.0"
      ]
     },
     "execution_count": 40,
     "metadata": {},
     "output_type": "execute_result"
    }
   ],
   "source": [
    "ratings = ratings.drop([\"timestamp\"],axis=1)\n",
    "ratings.head()"
   ]
  },
  {
   "cell_type": "code",
   "execution_count": 41,
   "metadata": {
    "scrolled": true
   },
   "outputs": [
    {
     "data": {
      "text/html": [
       "<div>\n",
       "<style scoped>\n",
       "    .dataframe tbody tr th:only-of-type {\n",
       "        vertical-align: middle;\n",
       "    }\n",
       "\n",
       "    .dataframe tbody tr th {\n",
       "        vertical-align: top;\n",
       "    }\n",
       "\n",
       "    .dataframe thead th {\n",
       "        text-align: right;\n",
       "    }\n",
       "</style>\n",
       "<table border=\"1\" class=\"dataframe\">\n",
       "  <thead>\n",
       "    <tr style=\"text-align: right;\">\n",
       "      <th>movieId</th>\n",
       "      <th>1</th>\n",
       "      <th>2</th>\n",
       "      <th>3</th>\n",
       "      <th>4</th>\n",
       "      <th>5</th>\n",
       "      <th>6</th>\n",
       "      <th>7</th>\n",
       "      <th>8</th>\n",
       "      <th>9</th>\n",
       "      <th>10</th>\n",
       "      <th>...</th>\n",
       "      <th>193565</th>\n",
       "      <th>193567</th>\n",
       "      <th>193571</th>\n",
       "      <th>193573</th>\n",
       "      <th>193579</th>\n",
       "      <th>193581</th>\n",
       "      <th>193583</th>\n",
       "      <th>193585</th>\n",
       "      <th>193587</th>\n",
       "      <th>193609</th>\n",
       "    </tr>\n",
       "    <tr>\n",
       "      <th>userId</th>\n",
       "      <th></th>\n",
       "      <th></th>\n",
       "      <th></th>\n",
       "      <th></th>\n",
       "      <th></th>\n",
       "      <th></th>\n",
       "      <th></th>\n",
       "      <th></th>\n",
       "      <th></th>\n",
       "      <th></th>\n",
       "      <th></th>\n",
       "      <th></th>\n",
       "      <th></th>\n",
       "      <th></th>\n",
       "      <th></th>\n",
       "      <th></th>\n",
       "      <th></th>\n",
       "      <th></th>\n",
       "      <th></th>\n",
       "      <th></th>\n",
       "      <th></th>\n",
       "    </tr>\n",
       "  </thead>\n",
       "  <tbody>\n",
       "    <tr>\n",
       "      <th>1</th>\n",
       "      <td>4.0</td>\n",
       "      <td>NaN</td>\n",
       "      <td>4.0</td>\n",
       "      <td>NaN</td>\n",
       "      <td>NaN</td>\n",
       "      <td>4.0</td>\n",
       "      <td>NaN</td>\n",
       "      <td>NaN</td>\n",
       "      <td>NaN</td>\n",
       "      <td>NaN</td>\n",
       "      <td>...</td>\n",
       "      <td>NaN</td>\n",
       "      <td>NaN</td>\n",
       "      <td>NaN</td>\n",
       "      <td>NaN</td>\n",
       "      <td>NaN</td>\n",
       "      <td>NaN</td>\n",
       "      <td>NaN</td>\n",
       "      <td>NaN</td>\n",
       "      <td>NaN</td>\n",
       "      <td>NaN</td>\n",
       "    </tr>\n",
       "    <tr>\n",
       "      <th>2</th>\n",
       "      <td>NaN</td>\n",
       "      <td>NaN</td>\n",
       "      <td>NaN</td>\n",
       "      <td>NaN</td>\n",
       "      <td>NaN</td>\n",
       "      <td>NaN</td>\n",
       "      <td>NaN</td>\n",
       "      <td>NaN</td>\n",
       "      <td>NaN</td>\n",
       "      <td>NaN</td>\n",
       "      <td>...</td>\n",
       "      <td>NaN</td>\n",
       "      <td>NaN</td>\n",
       "      <td>NaN</td>\n",
       "      <td>NaN</td>\n",
       "      <td>NaN</td>\n",
       "      <td>NaN</td>\n",
       "      <td>NaN</td>\n",
       "      <td>NaN</td>\n",
       "      <td>NaN</td>\n",
       "      <td>NaN</td>\n",
       "    </tr>\n",
       "    <tr>\n",
       "      <th>3</th>\n",
       "      <td>NaN</td>\n",
       "      <td>NaN</td>\n",
       "      <td>NaN</td>\n",
       "      <td>NaN</td>\n",
       "      <td>NaN</td>\n",
       "      <td>NaN</td>\n",
       "      <td>NaN</td>\n",
       "      <td>NaN</td>\n",
       "      <td>NaN</td>\n",
       "      <td>NaN</td>\n",
       "      <td>...</td>\n",
       "      <td>NaN</td>\n",
       "      <td>NaN</td>\n",
       "      <td>NaN</td>\n",
       "      <td>NaN</td>\n",
       "      <td>NaN</td>\n",
       "      <td>NaN</td>\n",
       "      <td>NaN</td>\n",
       "      <td>NaN</td>\n",
       "      <td>NaN</td>\n",
       "      <td>NaN</td>\n",
       "    </tr>\n",
       "    <tr>\n",
       "      <th>4</th>\n",
       "      <td>NaN</td>\n",
       "      <td>NaN</td>\n",
       "      <td>NaN</td>\n",
       "      <td>NaN</td>\n",
       "      <td>NaN</td>\n",
       "      <td>NaN</td>\n",
       "      <td>NaN</td>\n",
       "      <td>NaN</td>\n",
       "      <td>NaN</td>\n",
       "      <td>NaN</td>\n",
       "      <td>...</td>\n",
       "      <td>NaN</td>\n",
       "      <td>NaN</td>\n",
       "      <td>NaN</td>\n",
       "      <td>NaN</td>\n",
       "      <td>NaN</td>\n",
       "      <td>NaN</td>\n",
       "      <td>NaN</td>\n",
       "      <td>NaN</td>\n",
       "      <td>NaN</td>\n",
       "      <td>NaN</td>\n",
       "    </tr>\n",
       "    <tr>\n",
       "      <th>5</th>\n",
       "      <td>4.0</td>\n",
       "      <td>NaN</td>\n",
       "      <td>NaN</td>\n",
       "      <td>NaN</td>\n",
       "      <td>NaN</td>\n",
       "      <td>NaN</td>\n",
       "      <td>NaN</td>\n",
       "      <td>NaN</td>\n",
       "      <td>NaN</td>\n",
       "      <td>NaN</td>\n",
       "      <td>...</td>\n",
       "      <td>NaN</td>\n",
       "      <td>NaN</td>\n",
       "      <td>NaN</td>\n",
       "      <td>NaN</td>\n",
       "      <td>NaN</td>\n",
       "      <td>NaN</td>\n",
       "      <td>NaN</td>\n",
       "      <td>NaN</td>\n",
       "      <td>NaN</td>\n",
       "      <td>NaN</td>\n",
       "    </tr>\n",
       "  </tbody>\n",
       "</table>\n",
       "<p>5 rows × 9724 columns</p>\n",
       "</div>"
      ],
      "text/plain": [
       "movieId  1       2       3       4       5       6       7       8       \\\n",
       "userId                                                                    \n",
       "1           4.0     NaN     4.0     NaN     NaN     4.0     NaN     NaN   \n",
       "2           NaN     NaN     NaN     NaN     NaN     NaN     NaN     NaN   \n",
       "3           NaN     NaN     NaN     NaN     NaN     NaN     NaN     NaN   \n",
       "4           NaN     NaN     NaN     NaN     NaN     NaN     NaN     NaN   \n",
       "5           4.0     NaN     NaN     NaN     NaN     NaN     NaN     NaN   \n",
       "\n",
       "movieId  9       10       ...    193565  193567  193571  193573  193579  \\\n",
       "userId                    ...                                             \n",
       "1           NaN     NaN   ...       NaN     NaN     NaN     NaN     NaN   \n",
       "2           NaN     NaN   ...       NaN     NaN     NaN     NaN     NaN   \n",
       "3           NaN     NaN   ...       NaN     NaN     NaN     NaN     NaN   \n",
       "4           NaN     NaN   ...       NaN     NaN     NaN     NaN     NaN   \n",
       "5           NaN     NaN   ...       NaN     NaN     NaN     NaN     NaN   \n",
       "\n",
       "movieId  193581  193583  193585  193587  193609  \n",
       "userId                                           \n",
       "1           NaN     NaN     NaN     NaN     NaN  \n",
       "2           NaN     NaN     NaN     NaN     NaN  \n",
       "3           NaN     NaN     NaN     NaN     NaN  \n",
       "4           NaN     NaN     NaN     NaN     NaN  \n",
       "5           NaN     NaN     NaN     NaN     NaN  \n",
       "\n",
       "[5 rows x 9724 columns]"
      ]
     },
     "execution_count": 41,
     "metadata": {},
     "output_type": "execute_result"
    }
   ],
   "source": [
    "ratings = ratings.pivot_table(index=[\"userId\"], columns=[\"movieId\"], values=\"rating\")\n",
    "ratings.head()"
   ]
  },
  {
   "cell_type": "code",
   "execution_count": 6,
   "metadata": {},
   "outputs": [
    {
     "data": {
      "text/plain": [
       "Int64Index([     1,      2,      3,      4,      5,      6,      7,      8,\n",
       "                 9,     10,\n",
       "            ...\n",
       "            193565, 193567, 193571, 193573, 193579, 193581, 193583, 193585,\n",
       "            193587, 193609],\n",
       "           dtype='int64', name='movieId', length=9724)"
      ]
     },
     "execution_count": 6,
     "metadata": {},
     "output_type": "execute_result"
    }
   ],
   "source": [
    "cols = ratings.columns\n",
    "cols"
   ]
  },
  {
   "cell_type": "code",
   "execution_count": 7,
   "metadata": {},
   "outputs": [],
   "source": [
    "ratebool = ratings>0\n",
    "# ratebool.iloc[].sum()\n",
    "# ratings.index"
   ]
  },
  {
   "cell_type": "code",
   "execution_count": 8,
   "metadata": {
    "scrolled": false
   },
   "outputs": [
    {
     "data": {
      "text/html": [
       "<div>\n",
       "<style scoped>\n",
       "    .dataframe tbody tr th:only-of-type {\n",
       "        vertical-align: middle;\n",
       "    }\n",
       "\n",
       "    .dataframe tbody tr th {\n",
       "        vertical-align: top;\n",
       "    }\n",
       "\n",
       "    .dataframe thead th {\n",
       "        text-align: right;\n",
       "    }\n",
       "</style>\n",
       "<table border=\"1\" class=\"dataframe\">\n",
       "  <thead>\n",
       "    <tr style=\"text-align: right;\">\n",
       "      <th>movieId</th>\n",
       "      <th>1</th>\n",
       "      <th>2</th>\n",
       "      <th>3</th>\n",
       "      <th>4</th>\n",
       "      <th>5</th>\n",
       "      <th>6</th>\n",
       "      <th>7</th>\n",
       "      <th>8</th>\n",
       "      <th>9</th>\n",
       "      <th>10</th>\n",
       "      <th>...</th>\n",
       "      <th>193565</th>\n",
       "      <th>193567</th>\n",
       "      <th>193571</th>\n",
       "      <th>193573</th>\n",
       "      <th>193579</th>\n",
       "      <th>193581</th>\n",
       "      <th>193583</th>\n",
       "      <th>193585</th>\n",
       "      <th>193587</th>\n",
       "      <th>193609</th>\n",
       "    </tr>\n",
       "    <tr>\n",
       "      <th>userId</th>\n",
       "      <th></th>\n",
       "      <th></th>\n",
       "      <th></th>\n",
       "      <th></th>\n",
       "      <th></th>\n",
       "      <th></th>\n",
       "      <th></th>\n",
       "      <th></th>\n",
       "      <th></th>\n",
       "      <th></th>\n",
       "      <th></th>\n",
       "      <th></th>\n",
       "      <th></th>\n",
       "      <th></th>\n",
       "      <th></th>\n",
       "      <th></th>\n",
       "      <th></th>\n",
       "      <th></th>\n",
       "      <th></th>\n",
       "      <th></th>\n",
       "      <th></th>\n",
       "    </tr>\n",
       "  </thead>\n",
       "  <tbody>\n",
       "    <tr>\n",
       "      <th>1</th>\n",
       "      <td>0.8</td>\n",
       "      <td>0.0</td>\n",
       "      <td>0.8</td>\n",
       "      <td>0.0</td>\n",
       "      <td>0.0</td>\n",
       "      <td>0.8</td>\n",
       "      <td>0.0</td>\n",
       "      <td>0.0</td>\n",
       "      <td>0.0</td>\n",
       "      <td>0.0</td>\n",
       "      <td>...</td>\n",
       "      <td>0.0</td>\n",
       "      <td>0.0</td>\n",
       "      <td>0.0</td>\n",
       "      <td>0.0</td>\n",
       "      <td>0.0</td>\n",
       "      <td>0.0</td>\n",
       "      <td>0.0</td>\n",
       "      <td>0.0</td>\n",
       "      <td>0.0</td>\n",
       "      <td>0.0</td>\n",
       "    </tr>\n",
       "    <tr>\n",
       "      <th>2</th>\n",
       "      <td>0.0</td>\n",
       "      <td>0.0</td>\n",
       "      <td>0.0</td>\n",
       "      <td>0.0</td>\n",
       "      <td>0.0</td>\n",
       "      <td>0.0</td>\n",
       "      <td>0.0</td>\n",
       "      <td>0.0</td>\n",
       "      <td>0.0</td>\n",
       "      <td>0.0</td>\n",
       "      <td>...</td>\n",
       "      <td>0.0</td>\n",
       "      <td>0.0</td>\n",
       "      <td>0.0</td>\n",
       "      <td>0.0</td>\n",
       "      <td>0.0</td>\n",
       "      <td>0.0</td>\n",
       "      <td>0.0</td>\n",
       "      <td>0.0</td>\n",
       "      <td>0.0</td>\n",
       "      <td>0.0</td>\n",
       "    </tr>\n",
       "    <tr>\n",
       "      <th>3</th>\n",
       "      <td>0.0</td>\n",
       "      <td>0.0</td>\n",
       "      <td>0.0</td>\n",
       "      <td>0.0</td>\n",
       "      <td>0.0</td>\n",
       "      <td>0.0</td>\n",
       "      <td>0.0</td>\n",
       "      <td>0.0</td>\n",
       "      <td>0.0</td>\n",
       "      <td>0.0</td>\n",
       "      <td>...</td>\n",
       "      <td>0.0</td>\n",
       "      <td>0.0</td>\n",
       "      <td>0.0</td>\n",
       "      <td>0.0</td>\n",
       "      <td>0.0</td>\n",
       "      <td>0.0</td>\n",
       "      <td>0.0</td>\n",
       "      <td>0.0</td>\n",
       "      <td>0.0</td>\n",
       "      <td>0.0</td>\n",
       "    </tr>\n",
       "    <tr>\n",
       "      <th>4</th>\n",
       "      <td>0.0</td>\n",
       "      <td>0.0</td>\n",
       "      <td>0.0</td>\n",
       "      <td>0.0</td>\n",
       "      <td>0.0</td>\n",
       "      <td>0.0</td>\n",
       "      <td>0.0</td>\n",
       "      <td>0.0</td>\n",
       "      <td>0.0</td>\n",
       "      <td>0.0</td>\n",
       "      <td>...</td>\n",
       "      <td>0.0</td>\n",
       "      <td>0.0</td>\n",
       "      <td>0.0</td>\n",
       "      <td>0.0</td>\n",
       "      <td>0.0</td>\n",
       "      <td>0.0</td>\n",
       "      <td>0.0</td>\n",
       "      <td>0.0</td>\n",
       "      <td>0.0</td>\n",
       "      <td>0.0</td>\n",
       "    </tr>\n",
       "    <tr>\n",
       "      <th>5</th>\n",
       "      <td>0.8</td>\n",
       "      <td>0.0</td>\n",
       "      <td>0.0</td>\n",
       "      <td>0.0</td>\n",
       "      <td>0.0</td>\n",
       "      <td>0.0</td>\n",
       "      <td>0.0</td>\n",
       "      <td>0.0</td>\n",
       "      <td>0.0</td>\n",
       "      <td>0.0</td>\n",
       "      <td>...</td>\n",
       "      <td>0.0</td>\n",
       "      <td>0.0</td>\n",
       "      <td>0.0</td>\n",
       "      <td>0.0</td>\n",
       "      <td>0.0</td>\n",
       "      <td>0.0</td>\n",
       "      <td>0.0</td>\n",
       "      <td>0.0</td>\n",
       "      <td>0.0</td>\n",
       "      <td>0.0</td>\n",
       "    </tr>\n",
       "  </tbody>\n",
       "</table>\n",
       "<p>5 rows × 9724 columns</p>\n",
       "</div>"
      ],
      "text/plain": [
       "movieId  1       2       3       4       5       6       7       8       \\\n",
       "userId                                                                    \n",
       "1           0.8     0.0     0.8     0.0     0.0     0.8     0.0     0.0   \n",
       "2           0.0     0.0     0.0     0.0     0.0     0.0     0.0     0.0   \n",
       "3           0.0     0.0     0.0     0.0     0.0     0.0     0.0     0.0   \n",
       "4           0.0     0.0     0.0     0.0     0.0     0.0     0.0     0.0   \n",
       "5           0.8     0.0     0.0     0.0     0.0     0.0     0.0     0.0   \n",
       "\n",
       "movieId  9       10       ...    193565  193567  193571  193573  193579  \\\n",
       "userId                    ...                                             \n",
       "1           0.0     0.0   ...       0.0     0.0     0.0     0.0     0.0   \n",
       "2           0.0     0.0   ...       0.0     0.0     0.0     0.0     0.0   \n",
       "3           0.0     0.0   ...       0.0     0.0     0.0     0.0     0.0   \n",
       "4           0.0     0.0   ...       0.0     0.0     0.0     0.0     0.0   \n",
       "5           0.0     0.0   ...       0.0     0.0     0.0     0.0     0.0   \n",
       "\n",
       "movieId  193581  193583  193585  193587  193609  \n",
       "userId                                           \n",
       "1           0.0     0.0     0.0     0.0     0.0  \n",
       "2           0.0     0.0     0.0     0.0     0.0  \n",
       "3           0.0     0.0     0.0     0.0     0.0  \n",
       "4           0.0     0.0     0.0     0.0     0.0  \n",
       "5           0.0     0.0     0.0     0.0     0.0  \n",
       "\n",
       "[5 rows x 9724 columns]"
      ]
     },
     "execution_count": 8,
     "metadata": {},
     "output_type": "execute_result"
    }
   ],
   "source": [
    "ratedef = ratings.fillna(0)\n",
    "ratedef = ratedef.div(5)\n",
    "ratedef.head()"
   ]
  },
  {
   "cell_type": "code",
   "execution_count": 9,
   "metadata": {},
   "outputs": [
    {
     "name": "stdout",
     "output_type": "stream",
     "text": [
      "[2 3]\n",
      "[ 3 10]\n"
     ]
    }
   ],
   "source": [
    "p = []\n",
    "p.append([2,3])\n",
    "p.append([3,10])\n",
    "p = np.array(p)\n",
    "q = np.array([3,4])\n",
    "p\n",
    "for i in p:\n",
    "    print(i)"
   ]
  },
  {
   "cell_type": "code",
   "execution_count": 10,
   "metadata": {},
   "outputs": [],
   "source": [
    "current = np.array(ratedef.iloc[2])\n",
    "user = current\n",
    "userlen = np.sum(user>0)\n",
    "intersect = np.sum(current * user > 0)\n",
    "temp = intersect / (np.sum(current>0) + userlen - intersect)\n",
    "# ((ratedef>0)*ratedef).head()"
   ]
  },
  {
   "cell_type": "code",
   "execution_count": 11,
   "metadata": {},
   "outputs": [],
   "source": [
    "def sigmoid(value):\n",
    "    return 1/(1 + np.exp(-value))"
   ]
  },
  {
   "cell_type": "code",
   "execution_count": 12,
   "metadata": {},
   "outputs": [],
   "source": [
    "def proximity(ratings, user):\n",
    "#     prox = np.array(ratings.shape)\n",
    "    prox = []\n",
    "    for index, row in ratings.iterrows():\n",
    "        current = np.array(row)\n",
    "#         temp = 1 - sigmoid(np.absolute(current - user))\n",
    "        temp = 1 - sigmoid(current - user)\n",
    "        prox.append(temp)\n",
    "    prox = np.array(prox)\n",
    "    print(prox[2])\n",
    "    return prox"
   ]
  },
  {
   "cell_type": "code",
   "execution_count": 13,
   "metadata": {},
   "outputs": [],
   "source": [
    "def significance(ratings, rmedian, user):\n",
    "    sign = []\n",
    "    for index, row in ratings.iterrows():\n",
    "        current = np.array(row)\n",
    "#         temp = sigmoid(np.absolute(current - rmedian)*np.absolute(user - rmedian))\n",
    "        temp = sigmoid((current - rmedian)*(user - rmedian))\n",
    "        sign.append(temp)\n",
    "    sign = np.array(sign)\n",
    "    print(sign[2])\n",
    "    return sign"
   ]
  },
  {
   "cell_type": "code",
   "execution_count": 14,
   "metadata": {},
   "outputs": [],
   "source": [
    "def singularity(ratings, mmeans, user):\n",
    "    sin = []\n",
    "    for index, row in ratings.iterrows():\n",
    "        current = np.array(row)\n",
    "#         temp = 1 - sigmoid(np.absolute((current+user)/2 - mmeans))\n",
    "        temp = 1 - sigmoid((current+user)/2 - mmeans)\n",
    "        sin.append(temp)\n",
    "    sin = np.array(sin)\n",
    "    print(sin[2])\n",
    "    return sin"
   ]
  },
  {
   "cell_type": "code",
   "execution_count": 15,
   "metadata": {},
   "outputs": [],
   "source": [
    "def pss(ratings, user):\n",
    "    median = np.median(np.array(ratings))\n",
    "    mmeans = np.array(ratings.mean())\n",
    "    simpss = proximity(ratings, user) * significance(ratings, median, user) * singularity(ratings, mmeans, user)\n",
    "    simpss = simpss * (user>0)\n",
    "#     simpss = np.cross(np.cross(proximity(ratings, user), significance(ratings, median, user)), singularity(ratings, mmeans, user))\n",
    "#     simpss = []\n",
    "#     for index, row in ratings.iterrows():\n",
    "#         current = np.array(row)\n",
    "        \n",
    "    simpss = np.sum(simpss, axis=1)\n",
    "    print(simpss[2])\n",
    "    return simpss"
   ]
  },
  {
   "cell_type": "code",
   "execution_count": 16,
   "metadata": {},
   "outputs": [],
   "source": [
    "def jaccard(ratings, user):\n",
    "    jac = []\n",
    "    inte = []\n",
    "    userlen = np.sum(user>0)\n",
    "    for index, row in ratings.iterrows():\n",
    "        current = np.array(row)\n",
    "        intersect = np.sum(current * user > 0)\n",
    "#         temp = intersect / (np.sum(current>0) + userlen - intersect)\n",
    "        temp = intersect / (np.sum(current>0) * userlen)\n",
    "        jac.append(temp)\n",
    "        inte.append(intersect)\n",
    "    jac = np.array(jac)\n",
    "    print(jac[2])\n",
    "#     print(user)\n",
    "#     print(rating)\n",
    "    return jac"
   ]
  },
  {
   "cell_type": "code",
   "execution_count": 17,
   "metadata": {},
   "outputs": [],
   "source": [
    "def jpss(ratings, user):\n",
    "    return pss(ratings, user) * jaccard(ratings, user)"
   ]
  },
  {
   "cell_type": "code",
   "execution_count": 18,
   "metadata": {},
   "outputs": [],
   "source": [
    "def urp(ratings, user):\n",
    "    urprate = []\n",
    "    umean = np.mean(user)\n",
    "    ustd = np.std(user)\n",
    "    for index, row in ratings.iterrows():\n",
    "        current = np.array(row)\n",
    "#         temp = 1 + sigmoid(np.absolute((umean - np.mean(current))*(ustd - np.std(current))))\n",
    "        temp = 1 - sigmoid((umean - np.mean(current))*(ustd - np.std(current)))\n",
    "        urprate.append(temp)\n",
    "    urprate = np.array(urprate)\n",
    "    print(urprate[2])\n",
    "    return urprate"
   ]
  },
  {
   "cell_type": "code",
   "execution_count": 19,
   "metadata": {},
   "outputs": [],
   "source": [
    "def similarity_calculator(ratings, user):\n",
    "    return jpss(ratings, user) * urp(ratings, user)"
   ]
  },
  {
   "cell_type": "code",
   "execution_count": 20,
   "metadata": {},
   "outputs": [
    {
     "data": {
      "text/plain": [
       "pandas.core.indexes.numeric.Int64Index"
      ]
     },
     "execution_count": 20,
     "metadata": {},
     "output_type": "execute_result"
    }
   ],
   "source": [
    "type(ratings.index)"
   ]
  },
  {
   "cell_type": "code",
   "execution_count": 59,
   "metadata": {},
   "outputs": [
    {
     "data": {
      "text/html": [
       "<div>\n",
       "<style scoped>\n",
       "    .dataframe tbody tr th:only-of-type {\n",
       "        vertical-align: middle;\n",
       "    }\n",
       "\n",
       "    .dataframe tbody tr th {\n",
       "        vertical-align: top;\n",
       "    }\n",
       "\n",
       "    .dataframe thead th {\n",
       "        text-align: right;\n",
       "    }\n",
       "</style>\n",
       "<table border=\"1\" class=\"dataframe\">\n",
       "  <thead>\n",
       "    <tr style=\"text-align: right;\">\n",
       "      <th>movieId</th>\n",
       "      <th>1</th>\n",
       "      <th>2</th>\n",
       "      <th>3</th>\n",
       "      <th>4</th>\n",
       "      <th>5</th>\n",
       "      <th>6</th>\n",
       "      <th>7</th>\n",
       "      <th>8</th>\n",
       "      <th>9</th>\n",
       "      <th>10</th>\n",
       "      <th>...</th>\n",
       "      <th>193565</th>\n",
       "      <th>193567</th>\n",
       "      <th>193571</th>\n",
       "      <th>193573</th>\n",
       "      <th>193579</th>\n",
       "      <th>193581</th>\n",
       "      <th>193583</th>\n",
       "      <th>193585</th>\n",
       "      <th>193587</th>\n",
       "      <th>193609</th>\n",
       "    </tr>\n",
       "  </thead>\n",
       "  <tbody>\n",
       "    <tr>\n",
       "      <th>1</th>\n",
       "      <td>0.8</td>\n",
       "      <td>0.0</td>\n",
       "      <td>0.8</td>\n",
       "      <td>0.0</td>\n",
       "      <td>0.0</td>\n",
       "      <td>0.8</td>\n",
       "      <td>0.0</td>\n",
       "      <td>0.0</td>\n",
       "      <td>0.0</td>\n",
       "      <td>0.0</td>\n",
       "      <td>...</td>\n",
       "      <td>0.0</td>\n",
       "      <td>0.0</td>\n",
       "      <td>0.0</td>\n",
       "      <td>0.0</td>\n",
       "      <td>0.0</td>\n",
       "      <td>0.0</td>\n",
       "      <td>0.0</td>\n",
       "      <td>0.0</td>\n",
       "      <td>0.0</td>\n",
       "      <td>0.0</td>\n",
       "    </tr>\n",
       "    <tr>\n",
       "      <th>2</th>\n",
       "      <td>0.0</td>\n",
       "      <td>0.0</td>\n",
       "      <td>0.0</td>\n",
       "      <td>0.0</td>\n",
       "      <td>0.0</td>\n",
       "      <td>0.0</td>\n",
       "      <td>0.0</td>\n",
       "      <td>0.0</td>\n",
       "      <td>0.0</td>\n",
       "      <td>0.0</td>\n",
       "      <td>...</td>\n",
       "      <td>0.0</td>\n",
       "      <td>0.0</td>\n",
       "      <td>0.0</td>\n",
       "      <td>0.0</td>\n",
       "      <td>0.0</td>\n",
       "      <td>0.0</td>\n",
       "      <td>0.0</td>\n",
       "      <td>0.0</td>\n",
       "      <td>0.0</td>\n",
       "      <td>0.0</td>\n",
       "    </tr>\n",
       "    <tr>\n",
       "      <th>3</th>\n",
       "      <td>0.0</td>\n",
       "      <td>0.0</td>\n",
       "      <td>0.0</td>\n",
       "      <td>0.0</td>\n",
       "      <td>0.0</td>\n",
       "      <td>0.0</td>\n",
       "      <td>0.0</td>\n",
       "      <td>0.0</td>\n",
       "      <td>0.0</td>\n",
       "      <td>0.0</td>\n",
       "      <td>...</td>\n",
       "      <td>0.0</td>\n",
       "      <td>0.0</td>\n",
       "      <td>0.0</td>\n",
       "      <td>0.0</td>\n",
       "      <td>0.0</td>\n",
       "      <td>0.0</td>\n",
       "      <td>0.0</td>\n",
       "      <td>0.0</td>\n",
       "      <td>0.0</td>\n",
       "      <td>0.0</td>\n",
       "    </tr>\n",
       "    <tr>\n",
       "      <th>4</th>\n",
       "      <td>0.0</td>\n",
       "      <td>0.0</td>\n",
       "      <td>0.0</td>\n",
       "      <td>0.0</td>\n",
       "      <td>0.0</td>\n",
       "      <td>0.0</td>\n",
       "      <td>0.0</td>\n",
       "      <td>0.0</td>\n",
       "      <td>0.0</td>\n",
       "      <td>0.0</td>\n",
       "      <td>...</td>\n",
       "      <td>0.0</td>\n",
       "      <td>0.0</td>\n",
       "      <td>0.0</td>\n",
       "      <td>0.0</td>\n",
       "      <td>0.0</td>\n",
       "      <td>0.0</td>\n",
       "      <td>0.0</td>\n",
       "      <td>0.0</td>\n",
       "      <td>0.0</td>\n",
       "      <td>0.0</td>\n",
       "    </tr>\n",
       "    <tr>\n",
       "      <th>5</th>\n",
       "      <td>0.8</td>\n",
       "      <td>0.0</td>\n",
       "      <td>0.0</td>\n",
       "      <td>0.0</td>\n",
       "      <td>0.0</td>\n",
       "      <td>0.0</td>\n",
       "      <td>0.0</td>\n",
       "      <td>0.0</td>\n",
       "      <td>0.0</td>\n",
       "      <td>0.0</td>\n",
       "      <td>...</td>\n",
       "      <td>0.0</td>\n",
       "      <td>0.0</td>\n",
       "      <td>0.0</td>\n",
       "      <td>0.0</td>\n",
       "      <td>0.0</td>\n",
       "      <td>0.0</td>\n",
       "      <td>0.0</td>\n",
       "      <td>0.0</td>\n",
       "      <td>0.0</td>\n",
       "      <td>0.0</td>\n",
       "    </tr>\n",
       "  </tbody>\n",
       "</table>\n",
       "<p>5 rows × 9724 columns</p>\n",
       "</div>"
      ],
      "text/plain": [
       "movieId  1       2       3       4       5       6       7       8       \\\n",
       "1           0.8     0.0     0.8     0.0     0.0     0.8     0.0     0.0   \n",
       "2           0.0     0.0     0.0     0.0     0.0     0.0     0.0     0.0   \n",
       "3           0.0     0.0     0.0     0.0     0.0     0.0     0.0     0.0   \n",
       "4           0.0     0.0     0.0     0.0     0.0     0.0     0.0     0.0   \n",
       "5           0.8     0.0     0.0     0.0     0.0     0.0     0.0     0.0   \n",
       "\n",
       "movieId  9       10       ...    193565  193567  193571  193573  193579  \\\n",
       "1           0.0     0.0   ...       0.0     0.0     0.0     0.0     0.0   \n",
       "2           0.0     0.0   ...       0.0     0.0     0.0     0.0     0.0   \n",
       "3           0.0     0.0   ...       0.0     0.0     0.0     0.0     0.0   \n",
       "4           0.0     0.0   ...       0.0     0.0     0.0     0.0     0.0   \n",
       "5           0.0     0.0   ...       0.0     0.0     0.0     0.0     0.0   \n",
       "\n",
       "movieId  193581  193583  193585  193587  193609  \n",
       "1           0.0     0.0     0.0     0.0     0.0  \n",
       "2           0.0     0.0     0.0     0.0     0.0  \n",
       "3           0.0     0.0     0.0     0.0     0.0  \n",
       "4           0.0     0.0     0.0     0.0     0.0  \n",
       "5           0.0     0.0     0.0     0.0     0.0  \n",
       "\n",
       "[5 rows x 9724 columns]"
      ]
     },
     "execution_count": 59,
     "metadata": {},
     "output_type": "execute_result"
    }
   ],
   "source": [
    "nk = []\n",
    "for i in ratedef.index:\n",
    "#     if ratebool.loc[i].sum() > 50:\n",
    "    nk.append(ratedef.loc[i])\n",
    "ratedefactive = pd.DataFrame(nk)\n",
    "ratedefactive.head()"
   ]
  },
  {
   "cell_type": "code",
   "execution_count": 86,
   "metadata": {},
   "outputs": [
    {
     "data": {
      "text/plain": [
       "movieId\n",
       "1         0.276393\n",
       "2         0.123770\n",
       "3         0.055574\n",
       "4         0.005410\n",
       "5         0.049344\n",
       "6         0.131967\n",
       "7         0.056393\n",
       "8         0.007541\n",
       "9         0.016393\n",
       "10        0.151311\n",
       "11        0.084262\n",
       "12        0.015082\n",
       "13        0.008197\n",
       "14        0.022623\n",
       "15        0.012787\n",
       "16        0.105574\n",
       "17        0.082951\n",
       "18        0.024262\n",
       "19        0.078689\n",
       "20        0.012295\n",
       "21        0.101967\n",
       "22        0.038033\n",
       "23        0.016393\n",
       "24        0.028689\n",
       "25        0.090328\n",
       "26        0.014918\n",
       "27        0.009836\n",
       "28        0.015246\n",
       "29        0.050000\n",
       "30        0.002951\n",
       "            ...   \n",
       "188189    0.001475\n",
       "188301    0.003607\n",
       "188675    0.001148\n",
       "188751    0.001475\n",
       "188797    0.001311\n",
       "188833    0.001475\n",
       "189043    0.000820\n",
       "189111    0.000984\n",
       "189333    0.002459\n",
       "189381    0.000820\n",
       "189547    0.000328\n",
       "189713    0.000820\n",
       "190183    0.001148\n",
       "190207    0.000492\n",
       "190209    0.001311\n",
       "190213    0.000328\n",
       "190215    0.000492\n",
       "190219    0.000328\n",
       "190221    0.000328\n",
       "191005    0.001475\n",
       "193565    0.001148\n",
       "193567    0.000984\n",
       "193571    0.001311\n",
       "193573    0.001311\n",
       "193579    0.001148\n",
       "193581    0.001311\n",
       "193583    0.001148\n",
       "193585    0.001148\n",
       "193587    0.001148\n",
       "193609    0.001311\n",
       "Length: 9724, dtype: float64"
      ]
     },
     "execution_count": 86,
     "metadata": {},
     "output_type": "execute_result"
    }
   ],
   "source": [
    "ratedefactive.mean()"
   ]
  },
  {
   "cell_type": "code",
   "execution_count": 60,
   "metadata": {},
   "outputs": [
    {
     "data": {
      "text/plain": [
       "array([0.8, 0. , 0.8, ..., 0. , 0. , 0. ])"
      ]
     },
     "execution_count": 60,
     "metadata": {},
     "output_type": "execute_result"
    }
   ],
   "source": [
    "testuser = np.array(ratedef.iloc[0])\n",
    "testuser"
   ]
  },
  {
   "cell_type": "code",
   "execution_count": 61,
   "metadata": {
    "scrolled": false
   },
   "outputs": [
    {
     "name": "stdout",
     "output_type": "stream",
     "text": [
      "[0.68997448 0.5        0.68997448 ... 0.5        0.5        0.5       ]\n",
      "[0.5 0.5 0.5 ... 0.5 0.5 0.5]\n",
      "[0.46913765 0.53090318 0.4147347  ... 0.50028689 0.50028689 0.50032787]\n",
      "33.60762780569397\n",
      "0.0007736516357206013\n",
      "0.49955090196234875\n"
     ]
    }
   ],
   "source": [
    "simval = similarity_calculator(ratedefactive, testuser)"
   ]
  },
  {
   "cell_type": "code",
   "execution_count": 62,
   "metadata": {},
   "outputs": [
    {
     "data": {
      "text/plain": [
       "array([0.05332432, 0.00499975, 0.01298862, 0.01451423, 0.02115593,\n",
       "       0.00736896, 0.01208094, 0.02283129, 0.0078447 , 0.00310666])"
      ]
     },
     "execution_count": 62,
     "metadata": {},
     "output_type": "execute_result"
    }
   ],
   "source": [
    "simval[:10]"
   ]
  },
  {
   "cell_type": "code",
   "execution_count": 63,
   "metadata": {},
   "outputs": [
    {
     "data": {
      "text/plain": [
       "[(0.05332431838804949, 0),\n",
       " (0.042242414970638145, 493),\n",
       " (0.0394204553547162, 163),\n",
       " (0.0375368677863755, 398),\n",
       " (0.03753354814505721, 36)]"
      ]
     },
     "execution_count": 63,
     "metadata": {},
     "output_type": "execute_result"
    }
   ],
   "source": [
    "topN = sorted([(simval[i],i) for i in range(len(simval))],reverse=True)\n",
    "topN[:5]"
   ]
  },
  {
   "cell_type": "code",
   "execution_count": 64,
   "metadata": {},
   "outputs": [
    {
     "data": {
      "text/plain": [
       "[0, 493, 163, 398, 36]"
      ]
     },
     "execution_count": 64,
     "metadata": {},
     "output_type": "execute_result"
    }
   ],
   "source": [
    "topNindex = [i[1] for i in topN][:5]\n",
    "topNindex"
   ]
  },
  {
   "cell_type": "code",
   "execution_count": 65,
   "metadata": {},
   "outputs": [],
   "source": [
    "movies = []\n",
    "topNnumpy = []\n",
    "\n",
    "for index in topNindex:\n",
    "    movies.extend([i for i in cols if ratings.iloc[index][i] > 3])\n",
    "    topNnumpy.append(ratings.iloc[index])\n",
    "topNdf = pd.DataFrame(topNnumpy)\n",
    "movies = set(movies)"
   ]
  },
  {
   "cell_type": "code",
   "execution_count": 66,
   "metadata": {},
   "outputs": [
    {
     "data": {
      "text/plain": [
       "237"
      ]
     },
     "execution_count": 66,
     "metadata": {},
     "output_type": "execute_result"
    }
   ],
   "source": [
    "len(movies)"
   ]
  },
  {
   "cell_type": "code",
   "execution_count": 67,
   "metadata": {
    "scrolled": false
   },
   "outputs": [
    {
     "data": {
      "text/html": [
       "<div>\n",
       "<style scoped>\n",
       "    .dataframe tbody tr th:only-of-type {\n",
       "        vertical-align: middle;\n",
       "    }\n",
       "\n",
       "    .dataframe tbody tr th {\n",
       "        vertical-align: top;\n",
       "    }\n",
       "\n",
       "    .dataframe thead th {\n",
       "        text-align: right;\n",
       "    }\n",
       "</style>\n",
       "<table border=\"1\" class=\"dataframe\">\n",
       "  <thead>\n",
       "    <tr style=\"text-align: right;\">\n",
       "      <th>movieId</th>\n",
       "      <th>1</th>\n",
       "      <th>2</th>\n",
       "      <th>3</th>\n",
       "      <th>4</th>\n",
       "      <th>5</th>\n",
       "      <th>6</th>\n",
       "      <th>7</th>\n",
       "      <th>8</th>\n",
       "      <th>9</th>\n",
       "      <th>10</th>\n",
       "      <th>...</th>\n",
       "      <th>193565</th>\n",
       "      <th>193567</th>\n",
       "      <th>193571</th>\n",
       "      <th>193573</th>\n",
       "      <th>193579</th>\n",
       "      <th>193581</th>\n",
       "      <th>193583</th>\n",
       "      <th>193585</th>\n",
       "      <th>193587</th>\n",
       "      <th>193609</th>\n",
       "    </tr>\n",
       "  </thead>\n",
       "  <tbody>\n",
       "    <tr>\n",
       "      <th>1</th>\n",
       "      <td>4.0</td>\n",
       "      <td>NaN</td>\n",
       "      <td>4.0</td>\n",
       "      <td>NaN</td>\n",
       "      <td>NaN</td>\n",
       "      <td>4.0</td>\n",
       "      <td>NaN</td>\n",
       "      <td>NaN</td>\n",
       "      <td>NaN</td>\n",
       "      <td>NaN</td>\n",
       "      <td>...</td>\n",
       "      <td>NaN</td>\n",
       "      <td>NaN</td>\n",
       "      <td>NaN</td>\n",
       "      <td>NaN</td>\n",
       "      <td>NaN</td>\n",
       "      <td>NaN</td>\n",
       "      <td>NaN</td>\n",
       "      <td>NaN</td>\n",
       "      <td>NaN</td>\n",
       "      <td>NaN</td>\n",
       "    </tr>\n",
       "    <tr>\n",
       "      <th>494</th>\n",
       "      <td>NaN</td>\n",
       "      <td>NaN</td>\n",
       "      <td>NaN</td>\n",
       "      <td>NaN</td>\n",
       "      <td>NaN</td>\n",
       "      <td>NaN</td>\n",
       "      <td>NaN</td>\n",
       "      <td>NaN</td>\n",
       "      <td>NaN</td>\n",
       "      <td>NaN</td>\n",
       "      <td>...</td>\n",
       "      <td>NaN</td>\n",
       "      <td>NaN</td>\n",
       "      <td>NaN</td>\n",
       "      <td>NaN</td>\n",
       "      <td>NaN</td>\n",
       "      <td>NaN</td>\n",
       "      <td>NaN</td>\n",
       "      <td>NaN</td>\n",
       "      <td>NaN</td>\n",
       "      <td>NaN</td>\n",
       "    </tr>\n",
       "    <tr>\n",
       "      <th>164</th>\n",
       "      <td>NaN</td>\n",
       "      <td>NaN</td>\n",
       "      <td>NaN</td>\n",
       "      <td>NaN</td>\n",
       "      <td>NaN</td>\n",
       "      <td>NaN</td>\n",
       "      <td>NaN</td>\n",
       "      <td>NaN</td>\n",
       "      <td>NaN</td>\n",
       "      <td>NaN</td>\n",
       "      <td>...</td>\n",
       "      <td>NaN</td>\n",
       "      <td>NaN</td>\n",
       "      <td>NaN</td>\n",
       "      <td>NaN</td>\n",
       "      <td>NaN</td>\n",
       "      <td>NaN</td>\n",
       "      <td>NaN</td>\n",
       "      <td>NaN</td>\n",
       "      <td>NaN</td>\n",
       "      <td>NaN</td>\n",
       "    </tr>\n",
       "    <tr>\n",
       "      <th>399</th>\n",
       "      <td>4.0</td>\n",
       "      <td>NaN</td>\n",
       "      <td>NaN</td>\n",
       "      <td>NaN</td>\n",
       "      <td>NaN</td>\n",
       "      <td>NaN</td>\n",
       "      <td>NaN</td>\n",
       "      <td>NaN</td>\n",
       "      <td>NaN</td>\n",
       "      <td>NaN</td>\n",
       "      <td>...</td>\n",
       "      <td>NaN</td>\n",
       "      <td>NaN</td>\n",
       "      <td>NaN</td>\n",
       "      <td>NaN</td>\n",
       "      <td>NaN</td>\n",
       "      <td>NaN</td>\n",
       "      <td>NaN</td>\n",
       "      <td>NaN</td>\n",
       "      <td>NaN</td>\n",
       "      <td>NaN</td>\n",
       "    </tr>\n",
       "    <tr>\n",
       "      <th>37</th>\n",
       "      <td>NaN</td>\n",
       "      <td>NaN</td>\n",
       "      <td>NaN</td>\n",
       "      <td>NaN</td>\n",
       "      <td>NaN</td>\n",
       "      <td>NaN</td>\n",
       "      <td>NaN</td>\n",
       "      <td>NaN</td>\n",
       "      <td>NaN</td>\n",
       "      <td>NaN</td>\n",
       "      <td>...</td>\n",
       "      <td>NaN</td>\n",
       "      <td>NaN</td>\n",
       "      <td>NaN</td>\n",
       "      <td>NaN</td>\n",
       "      <td>NaN</td>\n",
       "      <td>NaN</td>\n",
       "      <td>NaN</td>\n",
       "      <td>NaN</td>\n",
       "      <td>NaN</td>\n",
       "      <td>NaN</td>\n",
       "    </tr>\n",
       "  </tbody>\n",
       "</table>\n",
       "<p>5 rows × 9724 columns</p>\n",
       "</div>"
      ],
      "text/plain": [
       "movieId  1       2       3       4       5       6       7       8       \\\n",
       "1           4.0     NaN     4.0     NaN     NaN     4.0     NaN     NaN   \n",
       "494         NaN     NaN     NaN     NaN     NaN     NaN     NaN     NaN   \n",
       "164         NaN     NaN     NaN     NaN     NaN     NaN     NaN     NaN   \n",
       "399         4.0     NaN     NaN     NaN     NaN     NaN     NaN     NaN   \n",
       "37          NaN     NaN     NaN     NaN     NaN     NaN     NaN     NaN   \n",
       "\n",
       "movieId  9       10       ...    193565  193567  193571  193573  193579  \\\n",
       "1           NaN     NaN   ...       NaN     NaN     NaN     NaN     NaN   \n",
       "494         NaN     NaN   ...       NaN     NaN     NaN     NaN     NaN   \n",
       "164         NaN     NaN   ...       NaN     NaN     NaN     NaN     NaN   \n",
       "399         NaN     NaN   ...       NaN     NaN     NaN     NaN     NaN   \n",
       "37          NaN     NaN   ...       NaN     NaN     NaN     NaN     NaN   \n",
       "\n",
       "movieId  193581  193583  193585  193587  193609  \n",
       "1           NaN     NaN     NaN     NaN     NaN  \n",
       "494         NaN     NaN     NaN     NaN     NaN  \n",
       "164         NaN     NaN     NaN     NaN     NaN  \n",
       "399         NaN     NaN     NaN     NaN     NaN  \n",
       "37          NaN     NaN     NaN     NaN     NaN  \n",
       "\n",
       "[5 rows x 9724 columns]"
      ]
     },
     "execution_count": 67,
     "metadata": {},
     "output_type": "execute_result"
    }
   ],
   "source": [
    "topNdf"
   ]
  },
  {
   "cell_type": "code",
   "execution_count": 104,
   "metadata": {},
   "outputs": [
    {
     "data": {
      "text/plain": [
       "29"
      ]
     },
     "execution_count": 104,
     "metadata": {},
     "output_type": "execute_result"
    }
   ],
   "source": [
    "a = set([i for i in cols if ratings.iloc[1][i] > 0])\n",
    "len(a)"
   ]
  },
  {
   "cell_type": "code",
   "execution_count": 105,
   "metadata": {},
   "outputs": [
    {
     "data": {
      "text/plain": [
       "65"
      ]
     },
     "execution_count": 105,
     "metadata": {},
     "output_type": "execute_result"
    }
   ],
   "source": [
    "c = set([i for i in cols if ratings.iloc[164][i] > 0])\n",
    "len(c)"
   ]
  },
  {
   "cell_type": "code",
   "execution_count": 106,
   "metadata": {},
   "outputs": [
    {
     "data": {
      "text/plain": [
       "265"
      ]
     },
     "execution_count": 106,
     "metadata": {},
     "output_type": "execute_result"
    }
   ],
   "source": [
    "b = set([i for i in cols if ratings.iloc[494][i] > 0])\n",
    "len(b)"
   ]
  },
  {
   "cell_type": "code",
   "execution_count": 107,
   "metadata": {},
   "outputs": [
    {
     "data": {
      "text/plain": [
       "0"
      ]
     },
     "execution_count": 107,
     "metadata": {},
     "output_type": "execute_result"
    }
   ],
   "source": [
    "len(a&c)"
   ]
  },
  {
   "cell_type": "code",
   "execution_count": 108,
   "metadata": {
    "scrolled": true
   },
   "outputs": [
    {
     "data": {
      "text/plain": [
       "set()"
      ]
     },
     "execution_count": 108,
     "metadata": {},
     "output_type": "execute_result"
    }
   ],
   "source": [
    "a&c"
   ]
  },
  {
   "cell_type": "code",
   "execution_count": 110,
   "metadata": {},
   "outputs": [
    {
     "data": {
      "text/plain": [
       "18"
      ]
     },
     "execution_count": 110,
     "metadata": {},
     "output_type": "execute_result"
    }
   ],
   "source": [
    "len(a&b)"
   ]
  },
  {
   "cell_type": "code",
   "execution_count": 109,
   "metadata": {},
   "outputs": [
    {
     "data": {
      "text/plain": [
       "{318,\n",
       " 333,\n",
       " 1704,\n",
       " 3578,\n",
       " 6874,\n",
       " 46970,\n",
       " 48516,\n",
       " 58559,\n",
       " 68157,\n",
       " 74458,\n",
       " 79132,\n",
       " 80489,\n",
       " 80906,\n",
       " 89774,\n",
       " 91658,\n",
       " 99114,\n",
       " 106782,\n",
       " 122882}"
      ]
     },
     "execution_count": 109,
     "metadata": {},
     "output_type": "execute_result"
    }
   ],
   "source": [
    "a&b"
   ]
  },
  {
   "cell_type": "code",
   "execution_count": 74,
   "metadata": {},
   "outputs": [
    {
     "data": {
      "text/plain": [
       "(610,)"
      ]
     },
     "execution_count": 74,
     "metadata": {},
     "output_type": "execute_result"
    }
   ],
   "source": [
    "simval.shape"
   ]
  },
  {
   "cell_type": "code",
   "execution_count": 96,
   "metadata": {},
   "outputs": [],
   "source": [
    "moviesa = [moviesdf.loc[moviesdf['movieId']==i]['title'] for i in a]"
   ]
  },
  {
   "cell_type": "code",
   "execution_count": 97,
   "metadata": {},
   "outputs": [
    {
     "data": {
      "text/plain": [
       "[8550    Ex Machina (2015)\n",
       " Name: title, dtype: object, 8681    Mad Max: Fury Road (2015)\n",
       " Name: title, dtype: object, 6315    Departed, The (2006)\n",
       " Name: title, dtype: object, 7768    Dark Knight Rises, The (2012)\n",
       " Name: title, dtype: object, 7436    Inside Job (2010)\n",
       " Name: title, dtype: object, 8828    The Jinx: The Life and Deaths of Robert Durst ...\n",
       " Name: title, dtype: object, 7372    Inception (2010)\n",
       " Name: title, dtype: object, 8305    Wolf of Wall Street, The (2013)\n",
       " Name: title, dtype: object, 1284    Good Will Hunting (1997)\n",
       " Name: title, dtype: object, 8466    Whiplash (2014)\n",
       " Name: title, dtype: object, 8063    Django Unchained (2012)\n",
       " Name: title, dtype: object, 7697    Warrior (2011)\n",
       " Name: title, dtype: object, 7010    Inglourious Basterds (2009)\n",
       " Name: title, dtype: object, 6710    Dark Knight, The (2008)\n",
       " Name: title, dtype: object, 7590    Louis C.K.: Hilarious (2010)\n",
       " Name: title, dtype: object, 291    Tommy Boy (1995)\n",
       " Name: title, dtype: object, 2674    Gladiator (2000)\n",
       " Name: title, dtype: object, 6801    Step Brothers (2008)\n",
       " Name: title, dtype: object, 7258    Shutter Island (2010)\n",
       " Name: title, dtype: object, 4615    Kill Bill: Vol. 1 (2003)\n",
       " Name: title, dtype: object, 5305    Collateral (2004)\n",
       " Name: title, dtype: object, 7415    Town, The (2010)\n",
       " Name: title, dtype: object, 6253    Talladega Nights: The Ballad of Ricky Bobby (2...\n",
       " Name: title, dtype: object]"
      ]
     },
     "execution_count": 97,
     "metadata": {},
     "output_type": "execute_result"
    }
   ],
   "source": [
    "moviesa"
   ]
  },
  {
   "cell_type": "code",
   "execution_count": 98,
   "metadata": {},
   "outputs": [],
   "source": [
    "moviesb = [moviesdf.loc[moviesdf['movieId']==i]['title'] for i in b]"
   ]
  },
  {
   "cell_type": "code",
   "execution_count": 99,
   "metadata": {},
   "outputs": [
    {
     "data": {
      "text/plain": [
       "[7043    Hangover, The (2009)\n",
       " Name: title, dtype: object, 8681    Mad Max: Fury Road (2015)\n",
       " Name: title, dtype: object, 8683    Star Wars: Episode VII - The Force Awakens (2015)\n",
       " Name: title, dtype: object, 7436    Inside Job (2010)\n",
       " Name: title, dtype: object, 1939    Matrix, The (1999)\n",
       " Name: title, dtype: object, 7776    Girl with the Dragon Tattoo, The (2011)\n",
       " Name: title, dtype: object, 461    Schindler's List (1993)\n",
       " Name: title, dtype: object, 18    Ace Ventura: When Nature Calls (1995)\n",
       " Name: title, dtype: object, 8005    Argo (2012)\n",
       " Name: title, dtype: object, 8691    Deadpool (2016)\n",
       " Name: title, dtype: object, 8099    Side Effects (2013)\n",
       " Name: title, dtype: object, 809    William Shakespeare's Romeo + Juliet (1996)\n",
       " Name: title, dtype: object, 3414    Planet of the Apes (2001)\n",
       " Name: title, dtype: object, 483    Nightmare Before Christmas, The (1993)\n",
       " Name: title, dtype: object, 1183    Men in Black (a.k.a. MIB) (1997)\n",
       " Name: title, dtype: object, 46    Usual Suspects, The (1995)\n",
       " Name: title, dtype: object, 8452    Birdman: Or (The Unexpected Virtue of Ignoranc...\n",
       " Name: title, dtype: object, 7010    Inglourious Basterds (2009)\n",
       " Name: title, dtype: object, 7644    Harry Potter and the Deathly Hallows: Part 2 (...\n",
       " Name: title, dtype: object, 7645    Drive (2011)\n",
       " Name: title, dtype: object, 1209    Air Force One (1997)\n",
       " Name: title, dtype: object, 6497    Ocean's Thirteen (2007)\n",
       " Name: title, dtype: object, 7222    Hachiko: A Dog's Story (a.k.a. Hachi: A Dog's ...\n",
       " Name: title, dtype: object, 506    Aladdin (1992)\n",
       " Name: title, dtype: object, 5301    Village, The (2004)\n",
       " Name: title, dtype: object, 7413    Social Network, The (2010)\n",
       " Name: title, dtype: object, 1218    L.A. Confidential (1997)\n",
       " Name: title, dtype: object, 4851    The Butterfly Effect (2004)\n",
       " Name: title, dtype: object, 8572    The Hunger Games: Mockingjay - Part 1 (2014)\n",
       " Name: title, dtype: object, 5737    Life Aquatic with Steve Zissou, The (2004)\n",
       " Name: title, dtype: object, 6457    Inglorious Bastards (Quel maledetto treno blin...\n",
       " Name: title, dtype: object, 6922    Gran Torino (2008)\n",
       " Name: title, dtype: object, 92    Happy Gilmore (1996)\n",
       " Name: title, dtype: object, 6219    Click (2006)\n",
       " Name: title, dtype: object, 6885    Slumdog Millionaire (2008)\n",
       " Name: title, dtype: object, 7415    Town, The (2010)\n",
       " Name: title, dtype: object, 1236    The Devil's Advocate (1997)\n",
       " Name: title, dtype: object, 8290    Dallas Buyers Club (2013)\n",
       " Name: title, dtype: object, 6725    Forgetting Sarah Marshall (2008)\n",
       " Name: title, dtype: object, 3467    Rat Race (2001)\n",
       " Name: title, dtype: object, 8602    Still Alice (2014)\n",
       " Name: title, dtype: object, 8729    Louis C.K.: Live at The Comedy Store (2015)\n",
       " Name: title, dtype: object, 2014    Austin Powers: The Spy Who Shagged Me (1999)\n",
       " Name: title, dtype: object, 8990    The Revenant (2015)\n",
       " Name: title, dtype: object, 5695    Old Boy (2003)\n",
       " Name: title, dtype: object, 3470    Jay and Silent Bob Strike Back (2001)\n",
       " Name: title, dtype: object, 8023    Silver Linings Playbook (2012)\n",
       " Name: title, dtype: object, 8024    Flight (2012)\n",
       " Name: title, dtype: object, 2779    Gone in 60 Seconds (2000)\n",
       " Name: title, dtype: object, 3764    Blade II (2002)\n",
       " Name: title, dtype: object, 1261    Starship Troopers (1997)\n",
       " Name: title, dtype: object, 2028    South Park: Bigger, Longer and Uncut (1999)\n",
       " Name: title, dtype: object, 7090    District 9 (2009)\n",
       " Name: title, dtype: object, 3152    Blow (2001)\n",
       " Name: title, dtype: object, 8438    Edge of Tomorrow (2014)\n",
       " Name: title, dtype: object, 118    Bad Boys (1995)\n",
       " Name: title, dtype: object, 1267    Truman Show, The (1998)\n",
       " Name: title, dtype: object, 2031    American Pie (1999)\n",
       " Name: title, dtype: object, 878    Cinema Paradiso (Nuovo cinema Paradiso) (1989)\n",
       " Name: title, dtype: object, 7693    Avengers, The (2012)\n",
       " Name: title, dtype: object, 123    Apollo 13 (1995)\n",
       " Name: title, dtype: object, 8026    Life of Pi (2012)\n",
       " Name: title, dtype: object, 6220    Devil Wears Prada, The (2006)\n",
       " Name: title, dtype: object, 8056    Zero Dark Thirty (2012)\n",
       " Name: title, dtype: object, 7454    127 Hours (2010)\n",
       " Name: title, dtype: object, 6887    Role Models (2008)\n",
       " Name: title, dtype: object, 9071    Spotlight (2015)\n",
       " Name: title, dtype: object, 131    Casper (1995)\n",
       " Name: title, dtype: object, 6223    Clerks II (2006)\n",
       " Name: title, dtype: object, 8453    Boyhood (2014)\n",
       " Name: title, dtype: object, 3167    Scarface (1983)\n",
       " Name: title, dtype: object, 6155    Inside Man (2006)\n",
       " Name: title, dtype: object, 1284    Good Will Hunting (1997)\n",
       " Name: title, dtype: object, 896    One Flew Over the Cuckoo's Nest (1975)\n",
       " Name: title, dtype: object, 3495    Training Day (2001)\n",
       " Name: title, dtype: object, 2810    Perfect Storm, The (2000)\n",
       " Name: title, dtype: object, 7697    Warrior (2011)\n",
       " Name: title, dtype: object, 6305    Apocalypto (2006)\n",
       " Name: title, dtype: object, 4074    8 Mile (2002)\n",
       " Name: title, dtype: object, 5775    Downfall (Untergang, Der) (2004)\n",
       " Name: title, dtype: object, 6992    Girl with the Dragon Tattoo, The (Män som hata...\n",
       " Name: title, dtype: object, 909    Apocalypse Now (1979)\n",
       " Name: title, dtype: object, 1291    Titanic (1997)\n",
       " Name: title, dtype: object, 6405    Ratatouille (2007)\n",
       " Name: title, dtype: object, 6710    Dark Knight, The (2008)\n",
       " Name: title, dtype: object, 4908    Dawn of the Dead (2004)\n",
       " Name: title, dtype: object, 4909    Eternal Sunshine of the Spotless Mind (2004)\n",
       " Name: title, dtype: object, 8058    Warm Bodies (2013)\n",
       " Name: title, dtype: object, 1298    Big Lebowski, The (1998)\n",
       " Name: title, dtype: object, 8303    Frozen (2013)\n",
       " Name: title, dtype: object, 2078    Sixth Sense, The (1999)\n",
       " Name: title, dtype: object, 6822    Tropic Thunder (2008)\n",
       " Name: title, dtype: object, 3525    Zoolander (2001)\n",
       " Name: title, dtype: object, 8475    Guardians of the Galaxy (2014)\n",
       " Name: title, dtype: object, 5350    Team America: World Police (2004)\n",
       " Name: title, dtype: object, 4612    Mystic River (2003)\n",
       " Name: title, dtype: object, 184    Billy Madison (1995)\n",
       " Name: title, dtype: object, 4615    Kill Bill: Vol. 1 (2003)\n",
       " Name: title, dtype: object, 7258    Shutter Island (2010)\n",
       " Name: title, dtype: object, 945    Dead Poets Society (1989)\n",
       " Name: title, dtype: object, 190    Clerks (1994)\n",
       " Name: title, dtype: object, 594    Twister (1996)\n",
       " Name: title, dtype: object, 946    Graduate, The (1967)\n",
       " Name: title, dtype: object, 1691    Rush Hour (1998)\n",
       " Name: title, dtype: object, 8744    Dope (2015)\n",
       " Name: title, dtype: object, 8889    Spy (2015)\n",
       " Name: title, dtype: object, 4356    Bruce Almighty (2003)\n",
       " Name: title, dtype: object, 9128    Creed (2015)\n",
       " Name: title, dtype: object, 197    Dumb & Dumber (Dumb and Dumber) (1994)\n",
       " Name: title, dtype: object, 6537    Superbad (2007)\n",
       " Name: title, dtype: object, 958    Stand by Me (1986)\n",
       " Name: title, dtype: object, 9018    Visit, The (2015)\n",
       " Name: title, dtype: object, 6481    Knocked Up (2007)\n",
       " Name: title, dtype: object, 962    Deer Hunter, The (1978)\n",
       " Name: title, dtype: object, 7894    Moonrise Kingdom (2012)\n",
       " Name: title, dtype: object, 964    Groundhog Day (1993)\n",
       " Name: title, dtype: object, 1319    Wedding Singer, The (1998)\n",
       " Name: title, dtype: object, 2860    Hollow Man (2000)\n",
       " Name: title, dtype: object, 9162    Big Short, The (2015)\n",
       " Name: title, dtype: object, 8426    Godzilla (2014)\n",
       " Name: title, dtype: object, 7625    Super 8 (2011)\n",
       " Name: title, dtype: object, 615    Independence Day (a.k.a. ID4) (1996)\n",
       " Name: title, dtype: object, 4935    Kill Bill: Vol. 2 (2004)\n",
       " Name: title, dtype: object, 619    Cable Guy, The (1996)\n",
       " Name: title, dtype: object, 3233    Fast and the Furious, The (2001)\n",
       " Name: title, dtype: object, 8235    We're the Millers (2013)\n",
       " Name: title, dtype: object, 4940    Man on Fire (2004)\n",
       " Name: title, dtype: object, 4641    Elf (2003)\n",
       " Name: title, dtype: object, 5391    Ocean's Twelve (2004)\n",
       " Name: title, dtype: object, 8590    Jurassic World (2015)\n",
       " Name: title, dtype: object, 7372    Inception (2010)\n",
       " Name: title, dtype: object, 4644    Love Actually (2003)\n",
       " Name: title, dtype: object, 8305    Wolf of Wall Street, The (2013)\n",
       " Name: title, dtype: object, 4948    Troy (2004)\n",
       " Name: title, dtype: object, 7212    Avatar (2009)\n",
       " Name: title, dtype: object, 8063    Django Unchained (2012)\n",
       " Name: title, dtype: object, 4656    Bad Santa (2003)\n",
       " Name: title, dtype: object, 7605    Bridesmaids (2011)\n",
       " Name: title, dtype: object, 276    Santa Clause, The (1994)\n",
       " Name: title, dtype: object, 277    Shawshank Redemption, The (1994)\n",
       " Name: title, dtype: object, 7638    Horrible Bosses (2011)\n",
       " Name: title, dtype: object, 4141    Gangs of New York (2002)\n",
       " Name: title, dtype: object, 4142    Two Weeks Notice (2002)\n",
       " Name: title, dtype: object, 2916    Best in Show (2000)\n",
       " Name: title, dtype: object, 3877    Mr. Deeds (2002)\n",
       " Name: title, dtype: object, 7171    Up in the Air (2009)\n",
       " Name: title, dtype: object, 291    Tommy Boy (1995)\n",
       " Name: title, dtype: object, 5222    Dodgeball: A True Underdog Story (2004)\n",
       " Name: title, dtype: object, 5227    Notebook, The (2004)\n",
       " Name: title, dtype: object, 6046    Jarhead (2005)\n",
       " Name: title, dtype: object, 7395    Scott Pilgrim vs. the World (2010)\n",
       " Name: title, dtype: object, 302    Ace Ventura: Pet Detective (1994)\n",
       " Name: title, dtype: object, 659    Godfather, The (1972)\n",
       " Name: title, dtype: object, 1796    Rushmore (1998)\n",
       " Name: title, dtype: object, 1060    Batman Returns (1992)\n",
       " Name: title, dtype: object, 7979    Looper (2012)\n",
       " Name: title, dtype: object, 3614    Ocean's Eleven (2001)\n",
       " Name: title, dtype: object, 314    Forrest Gump (1994)\n",
       " Name: title, dtype: object, 4159    Catch Me If You Can (2002)\n",
       " Name: title, dtype: object, 2195    Ferris Bueller's Day Off (1986)\n",
       " Name: title, dtype: object, 1809    Rocky II (1979)\n",
       " Name: title, dtype: object, 1810    Rocky III (1982)\n",
       " Name: title, dtype: object, 1811    Rocky IV (1985)\n",
       " Name: title, dtype: object, 2944    Meet the Parents (2000)\n",
       " Name: title, dtype: object, 2945    Requiem for a Dream (2000)\n",
       " Name: title, dtype: object, 6630    I Am Legend (2007)\n",
       " Name: title, dtype: object, 7060    Hurt Locker, The (2008)\n",
       " Name: title, dtype: object, 7767    The Hunger Games (2012)\n",
       " Name: title, dtype: object, 8033    Lincoln (2012)\n",
       " Name: title, dtype: object, 8545    Nightcrawler (2014)\n",
       " Name: title, dtype: object, 3628    Royal Tenenbaums, The (2001)\n",
       " Name: title, dtype: object, 8947    Steve Jobs (2015)\n",
       " Name: title, dtype: object, 7815    Louis C.K.: Live at the Beacon Theater (2011)\n",
       " Name: title, dtype: object, 6253    Talladega Nights: The Ballad of Ricky Bobby (2...\n",
       " Name: title, dtype: object, 6358    Blood Diamond (2006)\n",
       " Name: title, dtype: object, 8994    Southpaw (2015)\n",
       " Name: title, dtype: object, 1398    Armageddon (1998)\n",
       " Name: title, dtype: object, 6293    Idiocracy (2006)\n",
       " Name: title, dtype: object, 1830    Patch Adams (1998)\n",
       " Name: title, dtype: object, 8995    Sicario (2015)\n",
       " Name: title, dtype: object, 7347    Get Him to the Greek (2010)\n",
       " Name: title, dtype: object, 3640    Beautiful Mind, A (2001)\n",
       " Name: title, dtype: object, 6315    Departed, The (2006)\n",
       " Name: title, dtype: object, 8322    Snowpiercer (2013)\n",
       " Name: title, dtype: object, 2226    Fight Club (1999)\n",
       " Name: title, dtype: object, 5911    Mr. & Mrs. Smith (2005)\n",
       " Name: title, dtype: object, 7688    Moneyball (2011)\n",
       " Name: title, dtype: object, 1105    Dante's Peak (1997)\n",
       " Name: title, dtype: object, 8311    American Hustle (2013)\n",
       " Name: title, dtype: object, 9024    Straight Outta Compton (2015)\n",
       " Name: title, dtype: object, 8467    Gone Girl (2014)\n",
       " Name: title, dtype: object, 6714    21 (2008)\n",
       " Name: title, dtype: object, 2259    Being John Malkovich (1999)\n",
       " Name: title, dtype: object, 3006    Cast Away (2000)\n",
       " Name: title, dtype: object, 3009    Miss Congeniality (2000)\n",
       " Name: title, dtype: object, 3352    Short Circuit (1986)\n",
       " Name: title, dtype: object, 5263    Anchorman: The Legend of Ron Burgundy (2004)\n",
       " Name: title, dtype: object, 7198    Blind Side, The  (2009)\n",
       " Name: title, dtype: object, 1135    Liar Liar (1997)\n",
       " Name: title, dtype: object, 8537    John Wick (2014)\n",
       " Name: title, dtype: object, 2641    American Psycho (2000)\n",
       " Name: title, dtype: object, 6609    American Gangster (2007)\n",
       " Name: title, dtype: object, 9011    The Gift (2015)\n",
       " Name: title, dtype: object, 6746    Taken (2008)\n",
       " Name: title, dtype: object, 1503    Saving Private Ryan (1998)\n",
       " Name: title, dtype: object, 1154    Austin Powers: International Man of Mystery (1...\n",
       " Name: title, dtype: object, 6242    Little Miss Sunshine (2006)\n",
       " Name: title, dtype: object, 8879    The Martian (2015)\n",
       " Name: title, dtype: object, 3705    Super Troopers (2001)\n",
       " Name: title, dtype: object, 6905    Twilight (2008)\n",
       " Name: title, dtype: object, 2674    Gladiator (2000)\n",
       " Name: title, dtype: object, 4808    Paycheck (2003)\n",
       " Name: title, dtype: object, 5972    40-Year-Old Virgin, The (2005)\n",
       " Name: title, dtype: object]"
      ]
     },
     "execution_count": 99,
     "metadata": {},
     "output_type": "execute_result"
    }
   ],
   "source": [
    "moviesb"
   ]
  },
  {
   "cell_type": "code",
   "execution_count": 80,
   "metadata": {},
   "outputs": [],
   "source": [
    "moviesc = [moviesdf.loc[moviesdf['movieId']==i]['title'] for i in c]"
   ]
  },
  {
   "cell_type": "code",
   "execution_count": 81,
   "metadata": {},
   "outputs": [
    {
     "data": {
      "text/plain": [
       "[990    Indiana Jones and the Last Crusade (1989)\n",
       " Name: title, dtype: object, 793    Die Hard (1988)\n",
       " Name: title, dtype: object, 615    Independence Day (a.k.a. ID4) (1996)\n",
       " Name: title, dtype: object, 800    Long Kiss Goodnight, The (1996)\n",
       " Name: title, dtype: object, 2983    Crouching Tiger, Hidden Dragon (Wo hu cang lon...\n",
       " Name: title, dtype: object, 898    Star Wars: Episode V - The Empire Strikes Back...\n",
       " Name: title, dtype: object, 1183    Men in Black (a.k.a. MIB) (1997)\n",
       " Name: title, dtype: object, 900    Raiders of the Lost Ark (Indiana Jones and the...\n",
       " Name: title, dtype: object, 902    Aliens (1986)\n",
       " Name: title, dtype: object, 903    Good, the Bad and the Ugly, The (Buono, il bru...\n",
       " Name: title, dtype: object, 2713    Man with the Golden Gun, The (1974)\n",
       " Name: title, dtype: object, 911    Star Wars: Episode VI - Return of the Jedi (1983)\n",
       " Name: title, dtype: object, 1576    Indiana Jones and the Temple of Doom (1984)\n",
       " Name: title, dtype: object, 2722    Guns of Navarone, The (1961)\n",
       " Name: title, dtype: object, 2636    Predator (1987)\n",
       " Name: title, dtype: object, 836    E.T. the Extra-Terrestrial (1982)\n",
       " Name: title, dtype: object, 1044    Star Trek: First Contact (1996)\n",
       " Name: title, dtype: object, 507    Terminator 2: Judgment Day (1991)\n",
       " Name: title, dtype: object, 839    Top Gun (1986)\n",
       " Name: title, dtype: object, 2543    Titanic (1953)\n",
       " Name: title, dtype: object, 1986    Superman (1978)\n",
       " Name: title, dtype: object, 939    Terminator, The (1984)\n",
       " Name: title, dtype: object, 3280    Big Boss, The (Fists of Fury) (Tang shan da xi...\n",
       " Name: title, dtype: object, 418    Jurassic Park (1993)\n",
       " Name: title, dtype: object, 97    Braveheart (1995)\n",
       " Name: title, dtype: object, 2674    Gladiator (2000)\n",
       " Name: title, dtype: object]"
      ]
     },
     "execution_count": 81,
     "metadata": {},
     "output_type": "execute_result"
    }
   ],
   "source": [
    "moviesc"
   ]
  },
  {
   "cell_type": "code",
   "execution_count": 100,
   "metadata": {},
   "outputs": [],
   "source": [
    "moviesab = [moviesdf.loc[moviesdf['movieId']==i]['title'] for i in a&b]"
   ]
  },
  {
   "cell_type": "code",
   "execution_count": 101,
   "metadata": {},
   "outputs": [
    {
     "data": {
      "text/plain": [
       "[8681    Mad Max: Fury Road (2015)\n",
       " Name: title, dtype: object, 6315    Departed, The (2006)\n",
       " Name: title, dtype: object, 4615    Kill Bill: Vol. 1 (2003)\n",
       " Name: title, dtype: object, 6253    Talladega Nights: The Ballad of Ricky Bobby (2...\n",
       " Name: title, dtype: object, 1284    Good Will Hunting (1997)\n",
       " Name: title, dtype: object, 7415    Town, The (2010)\n",
       " Name: title, dtype: object, 7436    Inside Job (2010)\n",
       " Name: title, dtype: object, 8063    Django Unchained (2012)\n",
       " Name: title, dtype: object, 291    Tommy Boy (1995)\n",
       " Name: title, dtype: object, 7697    Warrior (2011)\n",
       " Name: title, dtype: object, 7258    Shutter Island (2010)\n",
       " Name: title, dtype: object, 2674    Gladiator (2000)\n",
       " Name: title, dtype: object, 7372    Inception (2010)\n",
       " Name: title, dtype: object, 7010    Inglourious Basterds (2009)\n",
       " Name: title, dtype: object, 8305    Wolf of Wall Street, The (2013)\n",
       " Name: title, dtype: object, 6710    Dark Knight, The (2008)\n",
       " Name: title, dtype: object]"
      ]
     },
     "execution_count": 101,
     "metadata": {},
     "output_type": "execute_result"
    }
   ],
   "source": [
    "moviesab"
   ]
  },
  {
   "cell_type": "code",
   "execution_count": null,
   "metadata": {},
   "outputs": [],
   "source": []
  }
 ],
 "metadata": {
  "kernelspec": {
   "display_name": "Python 3",
   "language": "python",
   "name": "python3"
  },
  "language_info": {
   "codemirror_mode": {
    "name": "ipython",
    "version": 3
   },
   "file_extension": ".py",
   "mimetype": "text/x-python",
   "name": "python",
   "nbconvert_exporter": "python",
   "pygments_lexer": "ipython3",
   "version": "3.7.3"
  }
 },
 "nbformat": 4,
 "nbformat_minor": 2
}
