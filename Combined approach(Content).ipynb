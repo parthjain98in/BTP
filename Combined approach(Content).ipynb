{
 "cells": [
  {
   "cell_type": "markdown",
   "metadata": {},
   "source": [
    "## Based on the paper \n",
    "https://www.cs.utexas.edu/~ml/papers/cbcf-aaai-02.pdf"
   ]
  },
  {
   "cell_type": "code",
   "execution_count": 38,
   "metadata": {},
   "outputs": [],
   "source": [
    "import pandas as pd\n",
    "import numpy as np\n",
    "from matplotlib import pyplot as plt\n",
    "import math"
   ]
  },
  {
   "cell_type": "code",
   "execution_count": 21,
   "metadata": {},
   "outputs": [],
   "source": [
    "ratings = pd.read_csv(\"ml-latest-small/ratings.csv\")\n",
    "movies = pd.read_csv(\"ml-latest-small/movies.csv\")\n",
    "tags = pd.read_csv(\"ml-latest-small/tags.csv\")"
   ]
  },
  {
   "cell_type": "code",
   "execution_count": 22,
   "metadata": {},
   "outputs": [],
   "source": [
    "tags = tags.drop(\"timestamp\", axis=1)\n",
    "ratings = ratings.drop(\"timestamp\", axis=1)"
   ]
  },
  {
   "cell_type": "code",
   "execution_count": 23,
   "metadata": {
    "scrolled": true
   },
   "outputs": [
    {
     "data": {
      "text/html": [
       "<div>\n",
       "<style scoped>\n",
       "    .dataframe tbody tr th:only-of-type {\n",
       "        vertical-align: middle;\n",
       "    }\n",
       "\n",
       "    .dataframe tbody tr th {\n",
       "        vertical-align: top;\n",
       "    }\n",
       "\n",
       "    .dataframe thead th {\n",
       "        text-align: right;\n",
       "    }\n",
       "</style>\n",
       "<table border=\"1\" class=\"dataframe\">\n",
       "  <thead>\n",
       "    <tr style=\"text-align: right;\">\n",
       "      <th></th>\n",
       "      <th>movieId</th>\n",
       "      <th>title</th>\n",
       "      <th>genres</th>\n",
       "    </tr>\n",
       "  </thead>\n",
       "  <tbody>\n",
       "    <tr>\n",
       "      <th>0</th>\n",
       "      <td>1</td>\n",
       "      <td>Toy Story (1995)</td>\n",
       "      <td>Adventure|Animation|Children|Comedy|Fantasy</td>\n",
       "    </tr>\n",
       "    <tr>\n",
       "      <th>1</th>\n",
       "      <td>2</td>\n",
       "      <td>Jumanji (1995)</td>\n",
       "      <td>Adventure|Children|Fantasy</td>\n",
       "    </tr>\n",
       "    <tr>\n",
       "      <th>2</th>\n",
       "      <td>3</td>\n",
       "      <td>Grumpier Old Men (1995)</td>\n",
       "      <td>Comedy|Romance</td>\n",
       "    </tr>\n",
       "    <tr>\n",
       "      <th>3</th>\n",
       "      <td>4</td>\n",
       "      <td>Waiting to Exhale (1995)</td>\n",
       "      <td>Comedy|Drama|Romance</td>\n",
       "    </tr>\n",
       "    <tr>\n",
       "      <th>4</th>\n",
       "      <td>5</td>\n",
       "      <td>Father of the Bride Part II (1995)</td>\n",
       "      <td>Comedy</td>\n",
       "    </tr>\n",
       "  </tbody>\n",
       "</table>\n",
       "</div>"
      ],
      "text/plain": [
       "   movieId                               title  \\\n",
       "0        1                    Toy Story (1995)   \n",
       "1        2                      Jumanji (1995)   \n",
       "2        3             Grumpier Old Men (1995)   \n",
       "3        4            Waiting to Exhale (1995)   \n",
       "4        5  Father of the Bride Part II (1995)   \n",
       "\n",
       "                                        genres  \n",
       "0  Adventure|Animation|Children|Comedy|Fantasy  \n",
       "1                   Adventure|Children|Fantasy  \n",
       "2                               Comedy|Romance  \n",
       "3                         Comedy|Drama|Romance  \n",
       "4                                       Comedy  "
      ]
     },
     "execution_count": 23,
     "metadata": {},
     "output_type": "execute_result"
    }
   ],
   "source": [
    "movies.head()"
   ]
  },
  {
   "cell_type": "code",
   "execution_count": 24,
   "metadata": {
    "scrolled": true
   },
   "outputs": [
    {
     "data": {
      "text/html": [
       "<div>\n",
       "<style scoped>\n",
       "    .dataframe tbody tr th:only-of-type {\n",
       "        vertical-align: middle;\n",
       "    }\n",
       "\n",
       "    .dataframe tbody tr th {\n",
       "        vertical-align: top;\n",
       "    }\n",
       "\n",
       "    .dataframe thead th {\n",
       "        text-align: right;\n",
       "    }\n",
       "</style>\n",
       "<table border=\"1\" class=\"dataframe\">\n",
       "  <thead>\n",
       "    <tr style=\"text-align: right;\">\n",
       "      <th></th>\n",
       "      <th>userId</th>\n",
       "      <th>movieId</th>\n",
       "      <th>rating</th>\n",
       "    </tr>\n",
       "  </thead>\n",
       "  <tbody>\n",
       "    <tr>\n",
       "      <th>0</th>\n",
       "      <td>1</td>\n",
       "      <td>1</td>\n",
       "      <td>4.0</td>\n",
       "    </tr>\n",
       "    <tr>\n",
       "      <th>1</th>\n",
       "      <td>1</td>\n",
       "      <td>3</td>\n",
       "      <td>4.0</td>\n",
       "    </tr>\n",
       "    <tr>\n",
       "      <th>2</th>\n",
       "      <td>1</td>\n",
       "      <td>6</td>\n",
       "      <td>4.0</td>\n",
       "    </tr>\n",
       "    <tr>\n",
       "      <th>3</th>\n",
       "      <td>1</td>\n",
       "      <td>47</td>\n",
       "      <td>5.0</td>\n",
       "    </tr>\n",
       "    <tr>\n",
       "      <th>4</th>\n",
       "      <td>1</td>\n",
       "      <td>50</td>\n",
       "      <td>5.0</td>\n",
       "    </tr>\n",
       "  </tbody>\n",
       "</table>\n",
       "</div>"
      ],
      "text/plain": [
       "   userId  movieId  rating\n",
       "0       1        1     4.0\n",
       "1       1        3     4.0\n",
       "2       1        6     4.0\n",
       "3       1       47     5.0\n",
       "4       1       50     5.0"
      ]
     },
     "execution_count": 24,
     "metadata": {},
     "output_type": "execute_result"
    }
   ],
   "source": [
    "ratings.head()"
   ]
  },
  {
   "cell_type": "code",
   "execution_count": 347,
   "metadata": {},
   "outputs": [
    {
     "data": {
      "text/plain": [
       "610"
      ]
     },
     "execution_count": 347,
     "metadata": {},
     "output_type": "execute_result"
    }
   ],
   "source": [
    "ratings[\"userId\"].nunique()"
   ]
  },
  {
   "cell_type": "code",
   "execution_count": 26,
   "metadata": {
    "scrolled": true
   },
   "outputs": [
    {
     "data": {
      "text/html": [
       "<div>\n",
       "<style scoped>\n",
       "    .dataframe tbody tr th:only-of-type {\n",
       "        vertical-align: middle;\n",
       "    }\n",
       "\n",
       "    .dataframe tbody tr th {\n",
       "        vertical-align: top;\n",
       "    }\n",
       "\n",
       "    .dataframe thead th {\n",
       "        text-align: right;\n",
       "    }\n",
       "</style>\n",
       "<table border=\"1\" class=\"dataframe\">\n",
       "  <thead>\n",
       "    <tr style=\"text-align: right;\">\n",
       "      <th></th>\n",
       "      <th>userId</th>\n",
       "      <th>movieId</th>\n",
       "      <th>tag</th>\n",
       "    </tr>\n",
       "  </thead>\n",
       "  <tbody>\n",
       "    <tr>\n",
       "      <th>0</th>\n",
       "      <td>2</td>\n",
       "      <td>60756</td>\n",
       "      <td>funny</td>\n",
       "    </tr>\n",
       "    <tr>\n",
       "      <th>1</th>\n",
       "      <td>2</td>\n",
       "      <td>60756</td>\n",
       "      <td>Highly quotable</td>\n",
       "    </tr>\n",
       "    <tr>\n",
       "      <th>2</th>\n",
       "      <td>2</td>\n",
       "      <td>60756</td>\n",
       "      <td>will ferrell</td>\n",
       "    </tr>\n",
       "    <tr>\n",
       "      <th>3</th>\n",
       "      <td>2</td>\n",
       "      <td>89774</td>\n",
       "      <td>Boxing story</td>\n",
       "    </tr>\n",
       "    <tr>\n",
       "      <th>4</th>\n",
       "      <td>2</td>\n",
       "      <td>89774</td>\n",
       "      <td>MMA</td>\n",
       "    </tr>\n",
       "  </tbody>\n",
       "</table>\n",
       "</div>"
      ],
      "text/plain": [
       "   userId  movieId              tag\n",
       "0       2    60756            funny\n",
       "1       2    60756  Highly quotable\n",
       "2       2    60756     will ferrell\n",
       "3       2    89774     Boxing story\n",
       "4       2    89774              MMA"
      ]
     },
     "execution_count": 26,
     "metadata": {},
     "output_type": "execute_result"
    }
   ],
   "source": [
    "tags.head()"
   ]
  },
  {
   "cell_type": "code",
   "execution_count": 32,
   "metadata": {},
   "outputs": [
    {
     "data": {
      "text/plain": [
       "1572"
      ]
     },
     "execution_count": 32,
     "metadata": {},
     "output_type": "execute_result"
    }
   ],
   "source": [
    "tags[\"movieId\"].nunique()"
   ]
  },
  {
   "cell_type": "code",
   "execution_count": 27,
   "metadata": {
    "scrolled": true
   },
   "outputs": [
    {
     "data": {
      "text/html": [
       "<div>\n",
       "<style scoped>\n",
       "    .dataframe tbody tr th:only-of-type {\n",
       "        vertical-align: middle;\n",
       "    }\n",
       "\n",
       "    .dataframe tbody tr th {\n",
       "        vertical-align: top;\n",
       "    }\n",
       "\n",
       "    .dataframe thead th {\n",
       "        text-align: right;\n",
       "    }\n",
       "</style>\n",
       "<table border=\"1\" class=\"dataframe\">\n",
       "  <thead>\n",
       "    <tr style=\"text-align: right;\">\n",
       "      <th>movieId</th>\n",
       "      <th>1</th>\n",
       "      <th>2</th>\n",
       "      <th>3</th>\n",
       "      <th>4</th>\n",
       "      <th>5</th>\n",
       "      <th>6</th>\n",
       "      <th>7</th>\n",
       "      <th>8</th>\n",
       "      <th>9</th>\n",
       "      <th>10</th>\n",
       "      <th>...</th>\n",
       "      <th>193565</th>\n",
       "      <th>193567</th>\n",
       "      <th>193571</th>\n",
       "      <th>193573</th>\n",
       "      <th>193579</th>\n",
       "      <th>193581</th>\n",
       "      <th>193583</th>\n",
       "      <th>193585</th>\n",
       "      <th>193587</th>\n",
       "      <th>193609</th>\n",
       "    </tr>\n",
       "    <tr>\n",
       "      <th>userId</th>\n",
       "      <th></th>\n",
       "      <th></th>\n",
       "      <th></th>\n",
       "      <th></th>\n",
       "      <th></th>\n",
       "      <th></th>\n",
       "      <th></th>\n",
       "      <th></th>\n",
       "      <th></th>\n",
       "      <th></th>\n",
       "      <th></th>\n",
       "      <th></th>\n",
       "      <th></th>\n",
       "      <th></th>\n",
       "      <th></th>\n",
       "      <th></th>\n",
       "      <th></th>\n",
       "      <th></th>\n",
       "      <th></th>\n",
       "      <th></th>\n",
       "      <th></th>\n",
       "    </tr>\n",
       "  </thead>\n",
       "  <tbody>\n",
       "    <tr>\n",
       "      <th>1</th>\n",
       "      <td>4.0</td>\n",
       "      <td>NaN</td>\n",
       "      <td>4.0</td>\n",
       "      <td>NaN</td>\n",
       "      <td>NaN</td>\n",
       "      <td>4.0</td>\n",
       "      <td>NaN</td>\n",
       "      <td>NaN</td>\n",
       "      <td>NaN</td>\n",
       "      <td>NaN</td>\n",
       "      <td>...</td>\n",
       "      <td>NaN</td>\n",
       "      <td>NaN</td>\n",
       "      <td>NaN</td>\n",
       "      <td>NaN</td>\n",
       "      <td>NaN</td>\n",
       "      <td>NaN</td>\n",
       "      <td>NaN</td>\n",
       "      <td>NaN</td>\n",
       "      <td>NaN</td>\n",
       "      <td>NaN</td>\n",
       "    </tr>\n",
       "    <tr>\n",
       "      <th>2</th>\n",
       "      <td>NaN</td>\n",
       "      <td>NaN</td>\n",
       "      <td>NaN</td>\n",
       "      <td>NaN</td>\n",
       "      <td>NaN</td>\n",
       "      <td>NaN</td>\n",
       "      <td>NaN</td>\n",
       "      <td>NaN</td>\n",
       "      <td>NaN</td>\n",
       "      <td>NaN</td>\n",
       "      <td>...</td>\n",
       "      <td>NaN</td>\n",
       "      <td>NaN</td>\n",
       "      <td>NaN</td>\n",
       "      <td>NaN</td>\n",
       "      <td>NaN</td>\n",
       "      <td>NaN</td>\n",
       "      <td>NaN</td>\n",
       "      <td>NaN</td>\n",
       "      <td>NaN</td>\n",
       "      <td>NaN</td>\n",
       "    </tr>\n",
       "    <tr>\n",
       "      <th>3</th>\n",
       "      <td>NaN</td>\n",
       "      <td>NaN</td>\n",
       "      <td>NaN</td>\n",
       "      <td>NaN</td>\n",
       "      <td>NaN</td>\n",
       "      <td>NaN</td>\n",
       "      <td>NaN</td>\n",
       "      <td>NaN</td>\n",
       "      <td>NaN</td>\n",
       "      <td>NaN</td>\n",
       "      <td>...</td>\n",
       "      <td>NaN</td>\n",
       "      <td>NaN</td>\n",
       "      <td>NaN</td>\n",
       "      <td>NaN</td>\n",
       "      <td>NaN</td>\n",
       "      <td>NaN</td>\n",
       "      <td>NaN</td>\n",
       "      <td>NaN</td>\n",
       "      <td>NaN</td>\n",
       "      <td>NaN</td>\n",
       "    </tr>\n",
       "    <tr>\n",
       "      <th>4</th>\n",
       "      <td>NaN</td>\n",
       "      <td>NaN</td>\n",
       "      <td>NaN</td>\n",
       "      <td>NaN</td>\n",
       "      <td>NaN</td>\n",
       "      <td>NaN</td>\n",
       "      <td>NaN</td>\n",
       "      <td>NaN</td>\n",
       "      <td>NaN</td>\n",
       "      <td>NaN</td>\n",
       "      <td>...</td>\n",
       "      <td>NaN</td>\n",
       "      <td>NaN</td>\n",
       "      <td>NaN</td>\n",
       "      <td>NaN</td>\n",
       "      <td>NaN</td>\n",
       "      <td>NaN</td>\n",
       "      <td>NaN</td>\n",
       "      <td>NaN</td>\n",
       "      <td>NaN</td>\n",
       "      <td>NaN</td>\n",
       "    </tr>\n",
       "    <tr>\n",
       "      <th>5</th>\n",
       "      <td>4.0</td>\n",
       "      <td>NaN</td>\n",
       "      <td>NaN</td>\n",
       "      <td>NaN</td>\n",
       "      <td>NaN</td>\n",
       "      <td>NaN</td>\n",
       "      <td>NaN</td>\n",
       "      <td>NaN</td>\n",
       "      <td>NaN</td>\n",
       "      <td>NaN</td>\n",
       "      <td>...</td>\n",
       "      <td>NaN</td>\n",
       "      <td>NaN</td>\n",
       "      <td>NaN</td>\n",
       "      <td>NaN</td>\n",
       "      <td>NaN</td>\n",
       "      <td>NaN</td>\n",
       "      <td>NaN</td>\n",
       "      <td>NaN</td>\n",
       "      <td>NaN</td>\n",
       "      <td>NaN</td>\n",
       "    </tr>\n",
       "  </tbody>\n",
       "</table>\n",
       "<p>5 rows × 9724 columns</p>\n",
       "</div>"
      ],
      "text/plain": [
       "movieId  1       2       3       4       5       6       7       8       \\\n",
       "userId                                                                    \n",
       "1           4.0     NaN     4.0     NaN     NaN     4.0     NaN     NaN   \n",
       "2           NaN     NaN     NaN     NaN     NaN     NaN     NaN     NaN   \n",
       "3           NaN     NaN     NaN     NaN     NaN     NaN     NaN     NaN   \n",
       "4           NaN     NaN     NaN     NaN     NaN     NaN     NaN     NaN   \n",
       "5           4.0     NaN     NaN     NaN     NaN     NaN     NaN     NaN   \n",
       "\n",
       "movieId  9       10       ...    193565  193567  193571  193573  193579  \\\n",
       "userId                    ...                                             \n",
       "1           NaN     NaN   ...       NaN     NaN     NaN     NaN     NaN   \n",
       "2           NaN     NaN   ...       NaN     NaN     NaN     NaN     NaN   \n",
       "3           NaN     NaN   ...       NaN     NaN     NaN     NaN     NaN   \n",
       "4           NaN     NaN   ...       NaN     NaN     NaN     NaN     NaN   \n",
       "5           NaN     NaN   ...       NaN     NaN     NaN     NaN     NaN   \n",
       "\n",
       "movieId  193581  193583  193585  193587  193609  \n",
       "userId                                           \n",
       "1           NaN     NaN     NaN     NaN     NaN  \n",
       "2           NaN     NaN     NaN     NaN     NaN  \n",
       "3           NaN     NaN     NaN     NaN     NaN  \n",
       "4           NaN     NaN     NaN     NaN     NaN  \n",
       "5           NaN     NaN     NaN     NaN     NaN  \n",
       "\n",
       "[5 rows x 9724 columns]"
      ]
     },
     "execution_count": 27,
     "metadata": {},
     "output_type": "execute_result"
    }
   ],
   "source": [
    "ratetable = ratings.pivot_table(index=[\"userId\"], columns=[\"movieId\"], values=\"rating\")\n",
    "ratetable.head()"
   ]
  },
  {
   "cell_type": "code",
   "execution_count": 150,
   "metadata": {
    "scrolled": true
   },
   "outputs": [
    {
     "data": {
      "text/plain": [
       "userId\n",
       "1       232\n",
       "2        29\n",
       "3        39\n",
       "4       216\n",
       "5        44\n",
       "6       314\n",
       "7       152\n",
       "8        47\n",
       "9        46\n",
       "10      140\n",
       "11       64\n",
       "12       32\n",
       "13       31\n",
       "14       48\n",
       "15      135\n",
       "16       98\n",
       "17      105\n",
       "18      502\n",
       "19      703\n",
       "20      242\n",
       "21      443\n",
       "22      119\n",
       "23      121\n",
       "24      110\n",
       "25       26\n",
       "26       21\n",
       "27      135\n",
       "28      570\n",
       "29       81\n",
       "30       34\n",
       "       ... \n",
       "581      40\n",
       "582      56\n",
       "583      56\n",
       "584      83\n",
       "585      61\n",
       "586     208\n",
       "587     165\n",
       "588      56\n",
       "589      40\n",
       "590     728\n",
       "591      54\n",
       "592      94\n",
       "593     103\n",
       "594     232\n",
       "595      20\n",
       "596     411\n",
       "597     443\n",
       "598      21\n",
       "599    2478\n",
       "600     763\n",
       "601     101\n",
       "602     135\n",
       "603     943\n",
       "604     100\n",
       "605     221\n",
       "606    1115\n",
       "607     187\n",
       "608     831\n",
       "609      37\n",
       "610    1302\n",
       "Length: 610, dtype: int64"
      ]
     },
     "execution_count": 150,
     "metadata": {},
     "output_type": "execute_result"
    }
   ],
   "source": [
    "9724 - ratetable.isnull().sum(axis=1)"
   ]
  },
  {
   "cell_type": "code",
   "execution_count": 349,
   "metadata": {},
   "outputs": [
    {
     "data": {
      "text/plain": [
       "[<matplotlib.lines.Line2D at 0x7f48919496d8>]"
      ]
     },
     "execution_count": 349,
     "metadata": {},
     "output_type": "execute_result"
    },
    {
     "data": {
      "image/png": "[encoded data removed]",
      "text/plain": [
       "<Figure size 432x288 with 1 Axes>"
      ]
     },
     "metadata": {
      "needs_background": "light"
     },
     "output_type": "display_data"
    }
   ],
   "source": [
    "quantity = 610 - ratetable.isnull().sum(axis=0)\n",
    "movieid = ratetable.columns\n",
    "plt.plot(movieid, quantity)"
   ]
  },
  {
   "cell_type": "code",
   "execution_count": 356,
   "metadata": {},
   "outputs": [
    {
     "data": {
      "text/plain": [
       "9724"
      ]
     },
     "execution_count": 356,
     "metadata": {},
     "output_type": "execute_result"
    }
   ],
   "source": [
    "q = quantity<2\n",
    "q."
   ]
  },
  {
   "cell_type": "code",
   "execution_count": 320,
   "metadata": {},
   "outputs": [
    {
     "data": {
      "text/plain": [
       "443"
      ]
     },
     "execution_count": 320,
     "metadata": {},
     "output_type": "execute_result"
    }
   ],
   "source": [
    "9724-ratetable.loc[21].isnull().sum()"
   ]
  },
  {
   "cell_type": "markdown",
   "metadata": {},
   "source": [
    "### Using pure content based\n",
    "Using naive bayes to create pseudo rating"
   ]
  },
  {
   "cell_type": "code",
   "execution_count": 33,
   "metadata": {},
   "outputs": [],
   "source": [
    "from sklearn.model_selection import train_test_split"
   ]
  },
  {
   "cell_type": "code",
   "execution_count": 54,
   "metadata": {},
   "outputs": [
    {
     "data": {
      "text/html": [
       "<div>\n",
       "<style scoped>\n",
       "    .dataframe tbody tr th:only-of-type {\n",
       "        vertical-align: middle;\n",
       "    }\n",
       "\n",
       "    .dataframe tbody tr th {\n",
       "        vertical-align: top;\n",
       "    }\n",
       "\n",
       "    .dataframe thead th {\n",
       "        text-align: right;\n",
       "    }\n",
       "</style>\n",
       "<table border=\"1\" class=\"dataframe\">\n",
       "  <thead>\n",
       "    <tr style=\"text-align: right;\">\n",
       "      <th></th>\n",
       "      <th>movieId</th>\n",
       "      <th>title</th>\n",
       "      <th>genres</th>\n",
       "      <th>lis</th>\n",
       "    </tr>\n",
       "  </thead>\n",
       "  <tbody>\n",
       "    <tr>\n",
       "      <th>0</th>\n",
       "      <td>1</td>\n",
       "      <td>Toy Story (1995)</td>\n",
       "      <td>Adventure|Animation|Children|Comedy|Fantasy</td>\n",
       "      <td>[Adventure, Animation, Children, Comedy, Fantasy]</td>\n",
       "    </tr>\n",
       "    <tr>\n",
       "      <th>1</th>\n",
       "      <td>2</td>\n",
       "      <td>Jumanji (1995)</td>\n",
       "      <td>Adventure|Children|Fantasy</td>\n",
       "      <td>[Adventure, Children, Fantasy]</td>\n",
       "    </tr>\n",
       "    <tr>\n",
       "      <th>2</th>\n",
       "      <td>3</td>\n",
       "      <td>Grumpier Old Men (1995)</td>\n",
       "      <td>Comedy|Romance</td>\n",
       "      <td>[Comedy, Romance]</td>\n",
       "    </tr>\n",
       "    <tr>\n",
       "      <th>3</th>\n",
       "      <td>4</td>\n",
       "      <td>Waiting to Exhale (1995)</td>\n",
       "      <td>Comedy|Drama|Romance</td>\n",
       "      <td>[Comedy, Drama, Romance]</td>\n",
       "    </tr>\n",
       "    <tr>\n",
       "      <th>4</th>\n",
       "      <td>5</td>\n",
       "      <td>Father of the Bride Part II (1995)</td>\n",
       "      <td>Comedy</td>\n",
       "      <td>[Comedy]</td>\n",
       "    </tr>\n",
       "  </tbody>\n",
       "</table>\n",
       "</div>"
      ],
      "text/plain": [
       "   movieId                               title  \\\n",
       "0        1                    Toy Story (1995)   \n",
       "1        2                      Jumanji (1995)   \n",
       "2        3             Grumpier Old Men (1995)   \n",
       "3        4            Waiting to Exhale (1995)   \n",
       "4        5  Father of the Bride Part II (1995)   \n",
       "\n",
       "                                        genres  \\\n",
       "0  Adventure|Animation|Children|Comedy|Fantasy   \n",
       "1                   Adventure|Children|Fantasy   \n",
       "2                               Comedy|Romance   \n",
       "3                         Comedy|Drama|Romance   \n",
       "4                                       Comedy   \n",
       "\n",
       "                                                 lis  \n",
       "0  [Adventure, Animation, Children, Comedy, Fantasy]  \n",
       "1                     [Adventure, Children, Fantasy]  \n",
       "2                                  [Comedy, Romance]  \n",
       "3                           [Comedy, Drama, Romance]  \n",
       "4                                           [Comedy]  "
      ]
     },
     "execution_count": 54,
     "metadata": {},
     "output_type": "execute_result"
    }
   ],
   "source": [
    "movies[\"lis\"] = movies.apply(lambda r: list(r.genres.split(\"|\")),axis=1)\n",
    "# genredict = movies.apply(lambda r: {r.movieId : list(r.genres.split(\"|\"))},axis=1)\n",
    "movies.head()"
   ]
  },
  {
   "cell_type": "code",
   "execution_count": 89,
   "metadata": {},
   "outputs": [
    {
     "data": {
      "text/plain": [
       "list"
      ]
     },
     "execution_count": 89,
     "metadata": {},
     "output_type": "execute_result"
    }
   ],
   "source": [
    "genredict = {}\n",
    "genredictstr = {}\n",
    "for i,r in movies.iterrows():\n",
    "    genredict[r.movieId] = r.lis\n",
    "    genredictstr[r.movieId] = \" \".join(r.lis)\n",
    "type(genredict[1])"
   ]
  },
  {
   "cell_type": "code",
   "execution_count": 321,
   "metadata": {},
   "outputs": [
    {
     "name": "stdout",
     "output_type": "stream",
     "text": [
      "['Adventure', 'Animation', 'Children', 'Comedy', 'Fantasy', 'Adventure', 'Children', 'Fantasy', 'Action', 'Adventure', 'Thriller', 'Comedy', 'Children', 'Comedy', 'Action', 'Adventure', 'Fantasy', 'Animation', 'Children', 'Drama', 'Musical', 'Romance', 'Action', 'Comedy', 'Crime', 'Drama', 'Thriller', 'Action', 'Crime', 'Thriller', 'Action', 'Adventure', 'Crime', 'Thriller', 'Action', 'Adventure', 'Sci-Fi', 'Action', 'Crime', 'Drama', 'Thriller', 'Comedy', 'Crime', 'Drama', 'Thriller', 'Children', 'Comedy', 'Fantasy', 'Comedy', 'Drama', 'Romance', 'War', 'Adventure', 'Animation', 'Children', 'Drama', 'Musical', 'IMAX', 'Action', 'Comedy', 'Crime', 'Fantasy', 'Action', 'Comedy', 'Comedy', 'Sci-Fi', 'Action', 'Adventure', 'Sci-Fi', 'Thriller', 'Comedy', 'Drama', 'Action', 'Sci-Fi', 'Thriller', 'Animation', 'Children', 'Fantasy', 'Musical', 'Children', 'Comedy', 'Adventure', 'Animation', 'Children', 'Comedy', 'Musical', 'Action', 'Sci-Fi', 'Action', 'Crime', 'Thriller', 'Comedy', 'Romance', 'Action', 'Adventure', 'Mystery', 'Thriller', 'Comedy', 'Action', 'Adventure', 'Thriller', 'Comedy', 'Animation', 'Children', 'Comedy', 'Action', 'Adventure', 'Sci-Fi', 'Thriller', 'Crime', 'Drama', 'Drama', 'Romance', 'Action', 'Crime', 'Thriller', 'Animation', 'Children', 'Comedy', 'Crime', 'Action', 'Adventure', 'Sci-Fi', 'Action', 'Adventure', 'Action', 'Adventure', 'Horror', 'Sci-Fi', 'Action', 'Adventure', 'Sci-Fi', 'Horror', 'Sci-Fi', 'Crime', 'Drama', 'Comedy', 'Romance', 'Action', 'Sci-Fi', 'Thriller', 'Comedy', 'Fantasy', 'Romance', 'Adventure', 'Comedy', 'Sci-Fi', 'Action', 'Adventure', 'Action', 'Adventure', 'Thriller', 'Action', 'Comedy', 'Sci-Fi', 'Action', 'Adventure', 'Comedy', 'Sci-Fi', 'Action', 'Adventure', 'Sci-Fi', 'Thriller', 'Action', 'Crime', 'Drama', 'Thriller', 'Action', 'Comedy', 'Sci-Fi', 'Drama', 'Romance', 'Drama', 'Romance', 'Action', 'Adventure', 'Thriller', 'Action', 'Crime', 'Mystery', 'Sci-Fi', 'Thriller', 'Action', 'Comedy', 'Crime', 'Thriller', 'Action', 'Comedy', 'Crime', 'Drama', 'Action', 'Comedy', 'Crime', 'Drama', 'Action', 'Comedy', 'Crime', 'Drama', 'Action', 'Comedy', 'Romance', 'Adventure', 'Comedy', 'Sci-Fi', 'Adventure', 'Comedy', 'Sci-Fi', 'Western', 'Crime', 'Drama', 'Mystery', 'Thriller', 'Children', 'Comedy', 'Fantasy', 'Horror', 'Animation', 'Children', 'Fantasy', 'Musical', 'Action', 'Adventure', 'Fantasy', 'Action', 'Horror', 'Thriller', 'Comedy', 'Fantasy', 'Action', 'Comedy', 'Crime', 'Thriller', 'Action', 'Horror', 'Sci-Fi', 'Thriller', 'Adventure', 'Animation', 'Children', 'Comedy', 'Action', 'Adventure', 'Thriller', 'Comedy', 'Crime', 'Action', 'Adventure', 'Thriller', 'Action', 'Adventure', 'Drama', 'Thriller', 'Comedy', 'Romance', 'Action', 'Drama', 'Sci-Fi', 'Drama', 'Action', 'Sci-Fi', 'Thriller', 'Action', 'Adventure', 'Comedy', 'Fantasy', 'Horror', 'Thriller', 'Action', 'Adventure', 'Sci-Fi', 'Comedy', 'Romance', 'Action', 'Adventure', 'Comedy', 'Animation', 'Comedy', 'Musical', 'Comedy', 'Romance', 'Action', 'Comedy', 'Sci-Fi', 'Comedy', 'Fantasy', 'Sci-Fi', 'Comedy', 'Romance', 'Drama', 'Horror', 'Mystery', 'Action', 'Mystery', 'Drama', 'Romance', 'Action', 'Adventure', 'Sci-Fi', 'Thriller', 'Action', 'Adventure', 'Thriller', 'Action', 'Adventure', 'Thriller', 'Action', 'Adventure', 'Thriller', 'Children', 'Comedy', 'Action', 'Crime', 'Drama', 'Thriller', 'Action', 'Crime', 'Drama', 'Sci-Fi', 'Thriller', 'Action', 'Adventure', 'Thriller', 'Action', 'Adventure', 'Thriller', 'Action', 'Adventure', 'Thriller', 'Action', 'Adventure', 'Thriller', 'Action', 'Adventure', 'Animation', 'Drama', 'Fantasy', 'Comedy', 'War', 'Action', 'Adventure', 'Thriller', 'Adventure', 'Animation', 'Children', 'Comedy', 'Fantasy', 'Comedy', 'Comedy', 'Drama', 'Romance', 'Adventure', 'Comedy', 'Fantasy', 'Action', 'Adventure', 'Drama', 'Comedy', 'Action', 'Adventure', 'Thriller', 'Action', 'Adventure', 'Romance', 'Thriller', 'Action', 'Adventure', 'Thriller', 'Action', 'Adventure', 'Sci-Fi', 'Thriller', 'Action', 'Adventure', 'Thriller', 'Action', 'Sci-Fi', 'Thriller', 'Action', 'Adventure', 'Sci-Fi', 'Action', 'Comedy', 'Crime', 'Romance', 'Comedy', 'Comedy', 'Action', 'Adventure', 'Thriller', 'Children', 'Comedy', 'Fantasy', 'Action', 'Adventure', 'Thriller', 'Comedy', 'Action', 'Comedy', 'Crime', 'Drama', 'Adventure', 'Animation', 'Children', 'Comedy', 'Fantasy', 'Romance', 'Adventure', 'Animation', 'Fantasy', 'Sci-Fi', 'Comedy', 'Romance', 'Comedy', 'Sci-Fi', 'Comedy', 'Romance', 'Action', 'Adventure', 'Sci-Fi', 'Thriller', 'Children', 'Comedy', 'Romance', 'Action', 'Comedy', 'Comedy', 'Adventure', 'Animation', 'Children', 'Comedy', 'Fantasy', 'Adventure', 'Children', 'Fantasy', 'Crime', 'Thriller', 'Comedy', 'Romance', 'Adventure', 'Fantasy', 'Adventure', 'Animation', 'Children', 'Comedy', 'Action', 'Horror', 'Sci-Fi', 'Thriller', 'Action', 'Horror', 'Thriller', 'Thriller', 'Action', 'Adventure', 'Sci-Fi', 'Thriller', 'Action', 'Adventure', 'Sci-Fi', 'IMAX', 'Action', 'Mystery', 'Thriller', 'Action', 'Crime', 'Mystery', 'Sci-Fi', 'Thriller', 'Action', 'Comedy', 'Sci-Fi', 'Comedy', 'Action', 'Crime', 'Action', 'Adventure', 'Comedy', 'Adventure', 'Fantasy', 'Action', 'Adventure', 'Thriller', 'Adventure', 'Fantasy', 'Crime', 'Drama', 'Comedy', 'Romance', 'Comedy', 'Action', 'Adventure', 'Sci-Fi', 'Thriller', 'IMAX', 'Comedy', 'Drama', 'Fantasy', 'Romance', 'Action', 'Adventure', 'Comedy', 'Crime', 'Thriller', 'Action', 'Adventure', 'Comedy', 'Fantasy', 'Action', 'Comedy', 'Crime', 'Thriller', 'Action', 'Crime', 'Thriller', 'Action', 'Adventure', 'Sci-Fi', 'Thriller', 'IMAX', 'Comedy', 'Drama', 'Romance', 'Action', 'Adventure', 'Drama', 'War', 'Action', 'Adventure', 'Drama', 'Fantasy', 'Action', 'Adventure', 'Fantasy', 'Horror', 'Action', 'Drama', 'Thriller', 'Action', 'Adventure', 'Sci-Fi', 'Thriller', 'Action', 'Adventure', 'Thriller', 'Action', 'Adventure', 'Thriller', 'Comedy', 'Romance', 'Adventure', 'Animation', 'Children', 'Comedy', 'Musical', 'Romance', 'Adventure', 'Fantasy', 'IMAX', 'Comedy', 'Drama', 'Romance', 'Animation', 'Children', 'Comedy', 'Musical', 'Action', 'Adventure', 'Sci-Fi', 'IMAX', 'Action', 'Adventure', 'Sci-Fi', 'Thriller', 'Action', 'Crime', 'Thriller', 'Action', 'Crime', 'Drama', 'Thriller', 'Comedy', 'Action', 'Adventure', 'Animation', 'Children', 'Comedy', 'Action', 'Adventure', 'Drama', 'Mystery', 'Thriller', 'Action', 'Comedy', 'Crime', 'Thriller', 'Action', 'Adventure', 'Animation', 'Children', 'Comedy', 'Fantasy', 'Adventure', 'Children', 'Comedy', 'Fantasy', 'IMAX', 'Drama', 'Musical', 'Romance', 'Comedy', 'Comedy', 'Romance', 'Comedy', 'Romance', 'Adventure', 'Comedy', 'Crime', 'Action', 'Crime', 'Film-Noir', 'Mystery', 'Thriller', 'Adventure', 'Comedy', 'Sci-Fi', 'Action', 'Adventure', 'Sci-Fi', 'Adventure', 'Animation', 'Children', 'Comedy', 'Action', 'Adventure', 'Comedy', 'Romance', 'Action', 'Crime', 'IMAX', 'Action', 'Adventure', 'Sci-Fi', 'Thriller', 'Action', 'Adventure', 'Sci-Fi', 'Comedy', 'Romance', 'Action', 'Crime', 'Thriller', 'Adventure', 'Animation', 'Children', 'Comedy', 'Comedy', 'Drama', 'Romance', 'Adventure', 'Fantasy', 'Thriller', 'IMAX', 'Adventure', 'Children', 'Fantasy', 'Adventure', 'Animation', 'Children', 'Comedy', 'Action', 'Sci-Fi', 'Thriller', 'IMAX', 'Action', 'Adventure', 'Thriller', 'Drama', 'Mystery', 'Thriller', 'Action', 'Sci-Fi', 'Thriller', 'Adventure', 'Comedy', 'Drama', 'Fantasy', 'Romance', 'Action', 'Comedy', 'Fantasy', 'IMAX', 'Crime', 'Drama', 'Film-Noir', 'Adventure', 'Comedy', 'Sci-Fi', 'Thriller', 'Action', 'Adventure', 'Thriller', 'Comedy', 'Romance', 'Comedy', 'Romance', 'Animation', 'Children', 'Drama', 'Comedy', 'Romance', 'Action', 'Fantasy', 'War', 'IMAX', 'Children', 'Comedy', 'Comedy', 'Drama', 'Romance', 'Adventure', 'Animation', 'Children', 'Comedy', 'Fantasy', 'Action', 'Adventure', 'Comedy', 'Fantasy', 'Crime', 'Thriller', 'Action', 'Adventure', 'Crime', 'Thriller', 'Action', 'Sci-Fi', 'Thriller', 'IMAX', 'Comedy', 'Drama', 'Romance', 'Action', 'Crime', 'Thriller', 'Action', 'Adventure', 'Action', 'Adventure', 'Fantasy', 'Sci-Fi', 'Action', 'Adventure', 'Drama', 'Sci-Fi', 'Thriller', 'Action', 'Crime', 'Drama', 'IMAX', 'Comedy', 'Romance', 'Action', 'Adventure', 'Sci-Fi', 'Action', 'Crime', 'Drama', 'Thriller', 'Comedy', 'Action', 'Adventure', 'Comedy', 'Sci-Fi', 'Action', 'Animation', 'Children', 'Comedy', 'IMAX', 'Comedy', 'Action', 'Adventure', 'Comedy', 'Crime', 'Fantasy', 'Comedy', 'Musical', 'Romance', 'Action', 'Adventure', 'Animation', 'Sci-Fi', 'Crime', 'Drama', 'Romance', 'Action', 'Adventure', 'Thriller', 'Action', 'Adventure', 'Animation', 'Children', 'Comedy', 'Comedy', 'Comedy', 'Drama', 'Musical', 'Sci-Fi', 'Action', 'Adventure', 'Sci-Fi', 'Thriller', 'Action', 'Comedy', 'IMAX', 'Adventure', 'Animation', 'Children', 'Drama', 'Comedy', 'Crime', 'Comedy', 'Romance', 'Action', 'Adventure', 'Sci-Fi', 'IMAX', 'Action', 'Adventure', 'Animation', 'Children', 'Comedy', 'Romance', 'Adventure', 'Fantasy', 'Mystery', 'Romance', 'IMAX', 'Mystery', 'Sci-Fi', 'Thriller', 'Action', 'Drama', 'Sci-Fi', 'Thriller', 'Drama', 'Action', 'Adventure', 'Sci-Fi', 'IMAX', 'Action', 'Crime', 'Mystery', 'Thriller', 'Comedy', 'Comedy', 'Romance', 'Action', 'Adventure', 'Drama', 'Comedy', 'Adventure', 'Fantasy', 'IMAX', 'Adventure', 'Animation', 'Children', 'Fantasy', 'IMAX', 'Action', 'Comedy', 'Action', 'Adventure', 'Sci-Fi', 'Thriller', 'IMAX', 'Action', 'Comedy', 'Thriller', 'Adventure', 'Animation', 'Children', 'Comedy', 'Fantasy', 'IMAX', 'Adventure', 'Animation', 'Children', 'Comedy', 'Fantasy', 'IMAX', 'Action', 'Crime', 'Drama', 'Mystery', 'Sci-Fi', 'Thriller', 'IMAX', 'Comedy', 'Action', 'Comedy', 'Romance', 'Action', 'Thriller', 'Action', 'Comedy', 'Comedy', 'Romance', 'Drama', 'Action', 'Comedy', 'Action', 'Animation', 'Children', 'Comedy', 'Sci-Fi', 'IMAX', 'Drama', 'Thriller', 'Action', 'Adventure', 'Fantasy', 'IMAX', 'Drama', 'Drama', 'Thriller', 'Sci-Fi', 'Thriller', 'Animation', 'Children', 'Horror', 'Thriller', 'Action', 'Adventure', 'Sci-Fi', 'Thriller', 'War', 'Action', 'Adventure', 'Sci-Fi', 'War', 'IMAX', 'Action', 'Adventure', 'Drama', 'Fantasy', 'Mystery', 'IMAX', 'Action', 'Adventure', 'Sci-Fi', 'Thriller', 'War', 'Comedy', 'Romance', 'Action', 'Drama', 'Sci-Fi', 'Thriller', 'Action', 'Adventure', 'Sci-Fi', 'IMAX', 'Action', 'Drama', 'Sci-Fi', 'IMAX', 'Action', 'Adventure', 'Drama', 'Sci-Fi', 'Thriller', 'Action', 'Adventure', 'Crime', 'IMAX', 'Action', 'Adventure', 'Drama', 'Thriller', 'IMAX', 'Action', 'Adventure', 'Thriller', 'IMAX', 'Action', 'Comedy', 'Crime', 'Comedy', 'Romance', 'Comedy', 'Action', 'Comedy', 'Sci-Fi', 'IMAX', 'Comedy', 'Drama', 'Action', 'Adventure', 'Animation', 'Children', 'Animation', 'Children', 'Fantasy', 'Musical', 'Comedy', 'Fantasy', 'Action', 'Adventure', 'Sci-Fi', 'IMAX', 'Children', 'Musical', 'Mystery', 'Action', 'Adventure', 'Animation', 'Action', 'Adventure', 'Thriller', 'IMAX', 'Comedy', 'Musical', 'Animation', 'Comedy', 'Adventure', 'Drama', 'IMAX', 'Action', 'Animation', 'Sci-Fi', 'Action', 'Drama', 'Western', 'Drama', 'Romance', 'Action', 'Adventure', 'Sci-Fi', 'IMAX', 'Action', 'Sci-Fi', 'Thriller', 'IMAX', 'Comedy', 'Action', 'Crime', 'Thriller', 'IMAX', 'Comedy', 'Drama', 'Adventure', 'Animation', 'Comedy', 'Action', 'Adventure', 'Sci-Fi', 'IMAX', 'Action', 'Drama', 'Sci-Fi', 'IMAX', 'Animation', 'Children', 'Comedy', 'IMAX', 'Action', 'Drama', 'Thriller', 'IMAX', 'Action', 'Comedy', 'Crime', 'Action', 'Adventure', 'Western', 'IMAX', 'Comedy', 'Drama', 'Romance', 'Action', 'Comedy', 'Crime', 'Thriller', 'Comedy', 'Action', 'Comedy', 'Crime', 'Comedy', 'Crime', 'Drama', 'Fantasy', 'Romance', 'Action', 'Sci-Fi', 'IMAX', 'Comedy', 'Drama', 'Romance', 'Action', 'Mystery', 'Thriller', 'Drama', 'Action', 'Adventure', 'Drama', 'Action', 'Adventure', 'Fantasy', 'IMAX', 'Action', 'Adventure', 'Sci-Fi', 'IMAX', 'Adventure', 'Fantasy', 'IMAX', 'Action', 'Adventure', 'Fantasy', 'Comedy', 'Adventure', 'Animation', 'Comedy', 'Fantasy', 'Musical', 'Romance', 'Comedy', 'Crime', 'Drama', 'Crime', 'Drama', 'Adventure', 'Comedy', 'Drama', 'Drama', 'Romance', 'Sci-Fi', 'Drama', 'Fantasy', 'Comedy', 'Drama', 'Children', 'Comedy', 'Action', 'Comedy', 'Adventure', 'Romance', 'Sci-Fi', 'IMAX', 'Action', 'Adventure', 'Animation', 'Children', 'Comedy', 'Fantasy', 'Action', 'Crime', 'Sci-Fi', 'IMAX', 'Comedy', 'Drama', 'Sci-Fi', 'IMAX', 'Comedy', 'Crime', 'Drama', 'Thriller', 'Comedy', 'Crime', 'Drama', 'Action', 'Adventure', 'Sci-Fi', 'IMAX', 'Adventure', 'Animation', 'Children', 'Comedy', 'Action', 'Sci-Fi', 'IMAX', 'Comedy', 'Action', 'Adventure', 'Sci-Fi', 'Comedy', 'Comedy', 'Western', 'Action', 'Sci-Fi', 'IMAX', 'Action', 'Adventure', 'Thriller', 'Action', 'Drama', 'Action', 'Animation', 'Children', 'Action', 'Comedy', 'Crime', 'Action', 'Adventure', 'Animation', 'Action', 'Adventure', 'Sci-Fi', 'Action', 'Mystery', 'Sci-Fi', 'Action', 'Comedy', 'Crime', 'Action', 'Thriller', 'Comedy', 'Romance', 'Action', 'Animation', 'Comedy', 'Animation', 'Comedy', 'Drama', 'Thriller', 'War', 'Adventure', 'Sci-Fi', 'Thriller', 'Animation', 'Comedy', 'Action', 'Adventure', 'Drama', 'Sci-Fi', 'Thriller', 'Comedy', 'Crime', 'Romance', 'Comedy', 'Crime', 'Adventure', 'Animation', 'Children', 'Comedy', 'Adventure', 'Animation', 'Children', 'Action', 'Comedy', 'Action', 'Adventure', 'Comedy', 'Crime', 'Adventure', 'Children', 'Comedy', 'Fantasy', 'Comedy', 'Action', 'Adventure', 'Sci-Fi', 'Thriller', 'Action', 'Adventure', 'Fantasy', 'Sci-Fi', 'IMAX', 'Action', 'Adventure', 'Sci-Fi', '(no genres listed)', 'Action', 'Adventure', 'Sci-Fi', 'Action', 'Adventure', 'Comedy', 'Sci-Fi', 'Action', 'Adventure', 'Sci-Fi', 'Comedy', 'Adventure', 'Children', 'Fantasy', 'Action', 'Comedy', 'Crime', 'Comedy', 'Action', 'Comedy', 'Crime', 'Comedy', 'Romance', 'Adventure', 'Animation', 'Children', 'Comedy', 'Drama', 'Fantasy', 'Adventure', 'Sci-Fi', 'Action', 'Crime', 'Sci-Fi', 'Comedy', 'Adventure', 'Animation', 'Children', 'Comedy', 'Adventure', 'Animation', 'Children', 'Comedy', 'Fantasy', 'Action', 'Adventure', 'Crime', 'Action', 'Adventure', 'Comedy', 'Crime', 'Drama', 'Horror', 'Action', 'Drama', 'Crime', 'Thriller', 'Comedy', 'Romance', 'Comedy', 'Romance', 'Drama', 'Animation', 'Fantasy', 'Drama', 'Thriller', 'Children', 'Fantasy', 'Romance', 'Action', 'Adventure', 'Animation', 'Children', 'Comedy', 'Action', 'Horror', 'Sci-Fi', 'Horror', 'Sci-Fi', 'Comedy', 'Drama', 'Romance', 'Comedy', 'Animation', 'Children', 'Comedy', 'Action', 'Crime', 'Thriller', 'Action', 'Sci-Fi', 'Action', 'Horror', 'Sci-Fi']\n",
      "[3.5, 3.5, 5.0, 2.5, 2.5, 1.0, 3.0, 3.0, 3.5, 2.0, 4.5, 3.0, 3.5, 4.0, 4.5, 4.0, 3.0, 5.0, 1.0, 4.0, 2.5, 3.5, 0.5, 2.5, 4.0, 3.5, 3.5, 4.0, 4.5, 3.5, 3.5, 4.0, 3.0, 3.5, 2.5, 3.0, 3.5, 3.0, 4.5, 4.0, 2.0, 4.5, 1.5, 2.5, 2.5, 3.5, 3.5, 5.0, 4.0, 3.5, 0.5, 2.5, 4.5, 2.5, 4.5, 3.5, 3.5, 5.0, 2.0, 3.5, 3.5, 2.5, 3.5, 2.5, 5.0, 5.0, 2.5, 3.0, 2.0, 4.0, 3.5, 1.0, 3.5, 0.5, 3.0, 4.5, 2.5, 3.0, 2.5, 4.0, 4.0, 4.0, 4.0, 3.5, 4.0, 4.0, 2.5, 2.5, 5.0, 3.5, 4.0, 3.0, 0.5, 4.0, 2.0, 4.0, 4.5, 4.5, 4.5, 3.0, 2.0, 3.5, 4.5, 4.5, 4.5, 4.5, 0.5, 4.0, 5.0, 3.5, 4.0, 3.0, 3.5, 2.5, 2.0, 4.0, 4.5, 4.5, 4.5, 4.5, 2.5, 3.5, 4.0, 4.0, 3.5, 4.5, 1.0, 4.0, 2.5, 3.5, 4.0, 3.5, 4.5, 4.0, 2.5, 4.0, 3.0, 3.5, 4.5, 3.5, 4.0, 4.5, 3.0, 1.5, 4.0, 3.0, 3.0, 1.0, 3.0, 4.0, 4.0, 4.5, 4.5, 3.0, 4.0, 2.0, 4.0, 5.0, 2.0, 3.5, 3.5, 2.0, 3.5, 3.0, 3.5, 4.0, 3.5, 1.5, 4.0, 4.0, 4.0, 1.5, 3.0, 1.5, 4.5, 4.5, 5.0, 2.5, 4.0, 4.0, 4.5, 0.5, 3.0, 4.0, 4.0, 4.0, 3.0, 3.5, 4.0, 4.5, 3.0, 3.5, 3.0, 3.5, 3.5, 3.5, 3.5, 3.0, 4.5, 4.5, 4.0, 4.0, 3.5, 3.5, 3.0, 3.0, 3.5, 1.5, 2.5, 1.5, 4.0, 3.0, 3.5, 2.5, 3.5, 3.5, 3.5, 3.0, 3.5, 4.0, 5.0, 4.0, 3.5, 2.0, 3.5, 3.5, 3.5, 0.5, 3.5, 4.5, 4.0, 4.5, 3.0, 3.5, 3.5, 4.0, 3.5, 3.0, 2.0, 3.5, 4.5, 4.0, 3.0, 2.5, 4.0, 3.5, 3.0, 3.5, 3.5, 1.0, 3.5, 3.5, 3.5, 2.5, 0.5, 3.5, 3.5, 4.5, 3.5, 3.5, 3.5, 4.0, 4.0, 3.5, 3.5, 3.0, 4.0, 2.5, 2.0, 3.0, 3.5, 1.5, 2.5, 3.5, 2.5, 4.0, 3.5, 4.0, 4.5, 3.5, 2.0, 4.0, 3.5, 3.5, 3.0, 3.0, 3.5, 2.5, 1.0, 3.0, 3.5, 4.0, 3.5, 4.0, 0.5, 3.5, 3.5, 4.0, 3.5, 2.5, 3.0, 4.0, 3.5, 3.5, 3.5, 3.5, 4.0, 3.0, 3.0, 4.0, 4.0, 3.0, 3.5, 4.0, 3.5, 3.5, 3.0, 2.0, 4.0, 3.5, 2.0, 3.5, 3.5, 3.5, 1.5, 4.5, 3.5, 4.0, 3.0, 2.0, 4.0, 3.5, 3.0, 4.0, 3.5, 3.5, 4.0, 0.5, 3.5, 1.5, 3.5, 4.0, 3.5, 4.0, 2.0, 4.0, 2.0, 3.5, 3.5, 4.0, 3.0, 3.5, 2.5, 4.0, 3.0, 3.0, 3.5, 2.5, 0.5, 4.0, 1.5, 3.0, 3.5, 1.0, 3.0, 3.5, 3.0, 2.5, 3.5, 1.5, 3.5, 4.0, 3.0, 2.5, 3.5, 4.0, 3.5, 4.5, 4.5, 3.5, 3.5, 3.5, 3.5, 4.0, 3.5, 1.0, 3.5, 3.5, 4.0, 3.5, 2.5, 3.5, 3.5, 4.0, 2.5, 3.5, 3.0, 3.5, 0.5, 4.0, 3.5, 2.0, 3.5, 4.0, 3.5, 4.0, 3.5, 3.5, 4.0, 3.0, 3.0, 2.5, 3.0, 3.5, 2.5, 4.0, 3.5, 3.5, 0.5, 4.5, 3.0, 4.0, 3.5, 0.5, 0.5, 0.5, 2.5, 3.0, 2.5, 1.5, 4.0, 2.0, 1.5, 4.0, 1.0, 0.5, 4.0, 3.5, 3.5, 4.0, 3.5, 3.0, 0.5]\n"
     ]
    }
   ],
   "source": [
    "# for user 1\n",
    "value = []\n",
    "valueagg = []\n",
    "label = []\n",
    "labelagg = []\n",
    "col = ratetable.columns\n",
    "for c in col:\n",
    "    if not math.isnan(ratetable.loc[21][c]):\n",
    "#         listofgenre = movies[movies.movieId == c][\"lis\"]\n",
    "        value.extend(genredict[c])\n",
    "        valueagg.append([genredictstr[c]])\n",
    "        label.extend([ratetable.loc[21][c]]*len(genredict[c]))\n",
    "        labelagg.append(ratetable.loc[21][c])\n",
    "print(value)\n",
    "print(labelagg)"
   ]
  },
  {
   "cell_type": "code",
   "execution_count": 62,
   "metadata": {},
   "outputs": [],
   "source": [
    "# col = ratetable.columns\n",
    "# for c in col:\n",
    "#     if not math.isnan(ratetable.iloc[1][c]):\n",
    "#         print(movies[movies.movieId == c][\"lis\"])\n",
    "#         print(type(movies[movies.movieId == c][\"lis\"]))"
   ]
  },
  {
   "cell_type": "code",
   "execution_count": 69,
   "metadata": {},
   "outputs": [],
   "source": [
    "from sklearn.feature_extraction.text import CountVectorizer\n",
    "vector = CountVectorizer()"
   ]
  },
  {
   "cell_type": "code",
   "execution_count": 85,
   "metadata": {},
   "outputs": [
    {
     "data": {
      "text/plain": [
       "14"
      ]
     },
     "execution_count": 85,
     "metadata": {},
     "output_type": "execute_result"
    }
   ],
   "source": [
    "len(allgen)"
   ]
  },
  {
   "cell_type": "code",
   "execution_count": 70,
   "metadata": {
    "scrolled": true
   },
   "outputs": [
    {
     "data": {
      "text/plain": [
       "CountVectorizer(analyzer='word', binary=False, decode_error='strict',\n",
       "        dtype=<class 'numpy.int64'>, encoding='utf-8', input='content',\n",
       "        lowercase=True, max_df=1.0, max_features=None, min_df=1,\n",
       "        ngram_range=(1, 1), preprocessor=None, stop_words=None,\n",
       "        strip_accents=None, token_pattern='(?u)\\\\b\\\\w\\\\w+\\\\b',\n",
       "        tokenizer=None, vocabulary=None)"
      ]
     },
     "execution_count": 70,
     "metadata": {},
     "output_type": "execute_result"
    }
   ],
   "source": [
    "allgen = set(value)\n",
    "vector.fit(allgen)"
   ]
  },
  {
   "cell_type": "code",
   "execution_count": 108,
   "metadata": {},
   "outputs": [
    {
     "data": {
      "text/plain": [
       "[['Crime Drama'],\n",
       " ['Comedy'],\n",
       " ['Drama Romance'],\n",
       " ['Action Adventure Drama'],\n",
       " ['Action Crime Thriller'],\n",
       " ['Action Crime Drama Thriller'],\n",
       " ['Action Comedy'],\n",
       " ['Crime Drama Thriller'],\n",
       " ['Action Crime Drama IMAX'],\n",
       " ['Comedy'],\n",
       " ['Action Drama War'],\n",
       " ['Action Comedy Horror'],\n",
       " ['Drama Mystery Thriller'],\n",
       " ['Comedy Documentary'],\n",
       " ['Action Crime Drama Mystery Sci-Fi Thriller IMAX'],\n",
       " ['Crime Drama Thriller'],\n",
       " ['Documentary'],\n",
       " ['Comedy'],\n",
       " ['Drama'],\n",
       " ['Action Adventure Crime IMAX'],\n",
       " ['Drama Thriller'],\n",
       " ['Action Drama Western'],\n",
       " ['Comedy Crime Drama'],\n",
       " ['Sci-Fi IMAX'],\n",
       " ['Drama'],\n",
       " ['Crime Drama Thriller'],\n",
       " ['Drama Sci-Fi Thriller'],\n",
       " ['Action Adventure Sci-Fi Thriller'],\n",
       " ['Documentary']]"
      ]
     },
     "execution_count": 108,
     "metadata": {},
     "output_type": "execute_result"
    }
   ],
   "source": [
    "valueagg"
   ]
  },
  {
   "cell_type": "code",
   "execution_count": 322,
   "metadata": {
    "scrolled": true
   },
   "outputs": [],
   "source": [
    "transformedvec = [list(vector.transform(i).toarray()[0]) for i in valueagg]"
   ]
  },
  {
   "cell_type": "code",
   "execution_count": 323,
   "metadata": {},
   "outputs": [
    {
     "data": {
      "text/plain": [
       "443"
      ]
     },
     "execution_count": 323,
     "metadata": {},
     "output_type": "execute_result"
    }
   ],
   "source": [
    "# labelagg = [int(a) for a in labelagg]\n",
    "len(labelagg)"
   ]
  },
  {
   "cell_type": "code",
   "execution_count": 79,
   "metadata": {},
   "outputs": [],
   "source": [
    "from sklearn.model_selection import train_test_split"
   ]
  },
  {
   "cell_type": "code",
   "execution_count": 324,
   "metadata": {},
   "outputs": [],
   "source": [
    "xtrain, xtest, ytrain, ytest = train_test_split(transformedvec, labelagg, test_size = 0.25)"
   ]
  },
  {
   "cell_type": "code",
   "execution_count": 325,
   "metadata": {},
   "outputs": [],
   "source": [
    "ytrainr, ytestr = ytrain, ytest\n",
    "ytrain = [int(i) for i in ytrain]\n",
    "ytest = [int(i) for i in ytest]"
   ]
  },
  {
   "cell_type": "code",
   "execution_count": 326,
   "metadata": {},
   "outputs": [
    {
     "data": {
      "text/plain": [
       "array([1, 4, 0, 4, 5, 0, 0, 1, 5, 0, 1, 5, 5, 5, 0, 3, 5, 5, 5, 0, 1, 5,\n",
       "       5, 5, 1, 5, 1, 1, 5, 0, 5, 5, 5, 5, 5, 5, 5, 5, 5, 1, 5, 4, 5, 5,\n",
       "       4, 1, 4, 0, 4, 4, 5, 5, 5, 5, 1, 5, 5, 5, 5, 5, 1, 5, 5, 5, 4, 5,\n",
       "       5, 5, 5, 5, 4, 1, 5, 1, 5, 0, 1, 1, 4, 4, 5, 4, 4, 5, 0, 4, 5, 5,\n",
       "       0, 1, 1, 5, 0, 0, 5, 5, 5, 0, 4, 5, 0, 1, 5, 5, 5, 5, 5, 5, 5, 0,\n",
       "       4])"
      ]
     },
     "execution_count": 326,
     "metadata": {},
     "output_type": "execute_result"
    }
   ],
   "source": [
    "from sklearn.naive_bayes import GaussianNB\n",
    "gnbclassifier = GaussianNB()\n",
    "gnbclassifier.fit(xtrain, ytrain)\n",
    "gnbresult = gnbclassifier.predict(xtest)\n",
    "gnbresult"
   ]
  },
  {
   "cell_type": "code",
   "execution_count": 327,
   "metadata": {},
   "outputs": [
    {
     "data": {
      "text/plain": [
       "array([3, 3, 3, 3, 3, 3, 3, 3, 3, 3, 3, 3, 3, 3, 3, 3, 3, 3, 3, 4, 3, 4,\n",
       "       3, 3, 3, 3, 3, 3, 3, 3, 3, 3, 3, 3, 3, 3, 3, 3, 3, 3, 3, 3, 3, 4,\n",
       "       3, 3, 3, 4, 3, 3, 3, 3, 3, 3, 3, 3, 3, 4, 3, 4, 3, 3, 3, 3, 3, 3,\n",
       "       3, 3, 4, 3, 3, 3, 3, 3, 3, 3, 3, 3, 3, 3, 3, 3, 3, 3, 3, 3, 3, 3,\n",
       "       3, 3, 3, 3, 3, 3, 3, 3, 3, 3, 3, 3, 3, 3, 3, 3, 3, 3, 3, 3, 3, 3,\n",
       "       3])"
      ]
     },
     "execution_count": 327,
     "metadata": {},
     "output_type": "execute_result"
    }
   ],
   "source": [
    "from sklearn.svm import SVC\n",
    "svmclassifier = SVC(gamma=\"auto\", kernel=\"rbf\")\n",
    "svmclassifier.fit(xtrain, ytrain)\n",
    "svmresult = svmclassifier.predict(xtest)\n",
    "svmresult"
   ]
  },
  {
   "cell_type": "code",
   "execution_count": 328,
   "metadata": {},
   "outputs": [
    {
     "data": {
      "text/plain": [
       "array([4., 3., 3., 3., 3., 3., 4., 3., 3., 4., 3., 4., 3., 3., 3., 4., 3.,\n",
       "       3., 4., 3., 4., 4., 4., 3., 3., 3., 3., 3., 3., 3., 3., 3., 3., 3.,\n",
       "       4., 3., 3., 3., 3., 3., 3., 4., 3., 4., 4., 3., 4., 4., 3., 4., 4.,\n",
       "       4., 3., 4., 4., 3., 4., 4., 4., 4., 3., 3., 3., 4., 3., 3., 3., 4.,\n",
       "       4., 3., 4., 4., 3., 3., 4., 3., 3., 3., 3., 3., 4., 4., 3., 3., 4.,\n",
       "       3., 4., 3., 3., 3., 3., 3., 3., 3., 3., 4., 4., 3., 3., 3., 3., 3.,\n",
       "       4., 3., 3., 3., 4., 3., 3., 3., 3.])"
      ]
     },
     "execution_count": 328,
     "metadata": {},
     "output_type": "execute_result"
    }
   ],
   "source": [
    "from sklearn.svm import SVR\n",
    "svrclassifier = SVR(gamma=\"auto\", kernel=\"sigmoid\", C=1)\n",
    "svrclassifier.fit(xtrain, ytrainr)\n",
    "svrresult = svrclassifier.predict(xtest)\n",
    "svrresult = np.around(svrresult)\n",
    "svrresult"
   ]
  },
  {
   "cell_type": "code",
   "execution_count": 329,
   "metadata": {},
   "outputs": [
    {
     "data": {
      "text/plain": [
       "array([4., 3., 2., 3., 3., 3., 3., 3., 3., 4., 3., 4., 3., 3., 3., 5., 3.,\n",
       "       3., 4., 3., 4., 4., 4., 3., 3., 3., 2., 3., 3., 2., 3., 3., 3., 3.,\n",
       "       3., 3., 3., 3., 3., 3., 3., 4., 3., 4., 4., 3., 4., 4., 3., 4., 4.,\n",
       "       4., 3., 4., 4., 3., 3., 4., 3., 4., 3., 3., 4., 4., 3., 3., 3., 3.,\n",
       "       4., 3., 4., 3., 3., 3., 3., 3., 2., 3., 3., 3., 3., 4., 3., 3., 4.,\n",
       "       3., 3., 3., 3., 3., 3., 3., 1., 2., 3., 3., 3., 3., 3., 3., 3., 3.,\n",
       "       3., 3., 3., 3., 4., 3., 3., 2., 3.])"
      ]
     },
     "execution_count": 329,
     "metadata": {},
     "output_type": "execute_result"
    }
   ],
   "source": [
    "from sklearn.linear_model import LinearRegression as LR\n",
    "lrclassifier = LR()\n",
    "lrclassifier.fit(xtrain, ytrainr)\n",
    "lrresult = lrclassifier.predict(xtest)\n",
    "lrresult = np.around(lrresult)\n",
    "lrresult"
   ]
  },
  {
   "cell_type": "code",
   "execution_count": 330,
   "metadata": {},
   "outputs": [
    {
     "data": {
      "text/plain": [
       "array([4, 4, 0, 3, 2, 2, 3, 2, 3, 2, 0, 4, 4, 3, 1, 4, 4, 3, 4, 3, 3, 3,\n",
       "       3, 4, 3, 2, 3, 4, 3, 1, 4, 3, 3, 1, 4, 3, 0, 2, 4, 4, 4, 3, 4, 4,\n",
       "       3, 4, 3, 3, 4, 4, 4, 4, 1, 3, 4, 4, 3, 3, 3, 5, 3, 3, 5, 4, 2, 3,\n",
       "       2, 3, 4, 4, 3, 0, 3, 4, 3, 4, 3, 1, 2, 4, 2, 4, 3, 4, 3, 3, 4, 3,\n",
       "       3, 2, 3, 4, 3, 3, 4, 4, 4, 4, 4, 2, 3, 3, 1, 0, 3, 3, 4, 3, 2, 0,\n",
       "       4])"
      ]
     },
     "execution_count": 330,
     "metadata": {},
     "output_type": "execute_result"
    }
   ],
   "source": [
    "np.array(ytest)"
   ]
  },
  {
   "cell_type": "code",
   "execution_count": 292,
   "metadata": {},
   "outputs": [],
   "source": [
    "# labelagg"
   ]
  },
  {
   "cell_type": "code",
   "execution_count": null,
   "metadata": {},
   "outputs": [],
   "source": []
  },
  {
   "cell_type": "code",
   "execution_count": null,
   "metadata": {},
   "outputs": [],
   "source": []
  },
  {
   "cell_type": "code",
   "execution_count": null,
   "metadata": {},
   "outputs": [],
   "source": []
  },
  {
   "cell_type": "code",
   "execution_count": 331,
   "metadata": {},
   "outputs": [
    {
     "data": {
      "text/plain": [
       "[0, 1, 1, 0, 0, 0, 0, 0, 0, 0, 0, 0, 0, 0, 0]"
      ]
     },
     "execution_count": 331,
     "metadata": {},
     "output_type": "execute_result"
    }
   ],
   "source": [
    "list(transformedvec[0])"
   ]
  },
  {
   "cell_type": "code",
   "execution_count": 291,
   "metadata": {},
   "outputs": [
    {
     "data": {
      "text/plain": [
       "0.8709883407113854"
      ]
     },
     "execution_count": 291,
     "metadata": {},
     "output_type": "execute_result"
    }
   ],
   "source": [
    "error(lrresult, ytest)"
   ]
  },
  {
   "cell_type": "code",
   "execution_count": 332,
   "metadata": {},
   "outputs": [],
   "source": [
    "dfresult = pd.DataFrame()\n",
    "dfresult[\"input\"] = xtest\n",
    "dfresult[\"actual\"] = ytest\n",
    "dfresult[\"gnb\"] = gnbresult\n",
    "dfresult[\"svm\"] = svmresult\n",
    "dfresult[\"svr\"] = svrresult\n",
    "dfresult[\"lr\"] = lrresult"
   ]
  },
  {
   "cell_type": "code",
   "execution_count": 346,
   "metadata": {},
   "outputs": [
    {
     "data": {
      "text/html": [
       "<div>\n",
       "<style scoped>\n",
       "    .dataframe tbody tr th:only-of-type {\n",
       "        vertical-align: middle;\n",
       "    }\n",
       "\n",
       "    .dataframe tbody tr th {\n",
       "        vertical-align: top;\n",
       "    }\n",
       "\n",
       "    .dataframe thead th {\n",
       "        text-align: right;\n",
       "    }\n",
       "</style>\n",
       "<table border=\"1\" class=\"dataframe\">\n",
       "  <thead>\n",
       "    <tr style=\"text-align: right;\">\n",
       "      <th></th>\n",
       "      <th>input</th>\n",
       "      <th>actual</th>\n",
       "      <th>gnb</th>\n",
       "      <th>svm</th>\n",
       "      <th>svr</th>\n",
       "      <th>lr</th>\n",
       "    </tr>\n",
       "  </thead>\n",
       "  <tbody>\n",
       "    <tr>\n",
       "      <th>0</th>\n",
       "      <td>[1, 1, 0, 1, 0, 0, 0, 0, 0, 0, 0, 0, 0, 0, 0]</td>\n",
       "      <td>4</td>\n",
       "      <td>1</td>\n",
       "      <td>3</td>\n",
       "      <td>4.0</td>\n",
       "      <td>4.0</td>\n",
       "    </tr>\n",
       "    <tr>\n",
       "      <th>1</th>\n",
       "      <td>[0, 1, 1, 0, 0, 0, 0, 0, 1, 0, 0, 0, 0, 0, 0]</td>\n",
       "      <td>4</td>\n",
       "      <td>4</td>\n",
       "      <td>3</td>\n",
       "      <td>3.0</td>\n",
       "      <td>3.0</td>\n",
       "    </tr>\n",
       "    <tr>\n",
       "      <th>2</th>\n",
       "      <td>[1, 0, 0, 0, 0, 0, 1, 1, 0, 0, 0, 1, 0, 0, 0]</td>\n",
       "      <td>0</td>\n",
       "      <td>0</td>\n",
       "      <td>3</td>\n",
       "      <td>3.0</td>\n",
       "      <td>2.0</td>\n",
       "    </tr>\n",
       "    <tr>\n",
       "      <th>3</th>\n",
       "      <td>[1, 0, 0, 0, 0, 1, 1, 0, 1, 0, 0, 1, 0, 0, 0]</td>\n",
       "      <td>3</td>\n",
       "      <td>4</td>\n",
       "      <td>3</td>\n",
       "      <td>3.0</td>\n",
       "      <td>3.0</td>\n",
       "    </tr>\n",
       "    <tr>\n",
       "      <th>4</th>\n",
       "      <td>[0, 0, 1, 0, 0, 0, 0, 0, 0, 0, 1, 0, 0, 0, 0]</td>\n",
       "      <td>2</td>\n",
       "      <td>5</td>\n",
       "      <td>3</td>\n",
       "      <td>3.0</td>\n",
       "      <td>3.0</td>\n",
       "    </tr>\n",
       "  </tbody>\n",
       "</table>\n",
       "</div>"
      ],
      "text/plain": [
       "                                           input  actual  gnb  svm  svr   lr\n",
       "0  [1, 1, 0, 1, 0, 0, 0, 0, 0, 0, 0, 0, 0, 0, 0]       4    1    3  4.0  4.0\n",
       "1  [0, 1, 1, 0, 0, 0, 0, 0, 1, 0, 0, 0, 0, 0, 0]       4    4    3  3.0  3.0\n",
       "2  [1, 0, 0, 0, 0, 0, 1, 1, 0, 0, 0, 1, 0, 0, 0]       0    0    3  3.0  2.0\n",
       "3  [1, 0, 0, 0, 0, 1, 1, 0, 1, 0, 0, 1, 0, 0, 0]       3    4    3  3.0  3.0\n",
       "4  [0, 0, 1, 0, 0, 0, 0, 0, 0, 0, 1, 0, 0, 0, 0]       2    5    3  3.0  3.0"
      ]
     },
     "execution_count": 346,
     "metadata": {},
     "output_type": "execute_result"
    }
   ],
   "source": [
    "dfresult.head()"
   ]
  },
  {
   "cell_type": "code",
   "execution_count": 236,
   "metadata": {},
   "outputs": [],
   "source": [
    "def error(predictions, targets):\n",
    "    return np.sqrt(((np.array(predictions) - np.array(targets)) ** 2).mean())"
   ]
  },
  {
   "cell_type": "markdown",
   "metadata": {},
   "source": [
    "### Results of different algo on using content only approach"
   ]
  },
  {
   "cell_type": "code",
   "execution_count": 334,
   "metadata": {},
   "outputs": [],
   "source": [
    "indexes = [\"gnb\", \"svm\", \"svr\", \"lr\"]\n",
    "errorsU3 = []\n",
    "for index in indexes:\n",
    "    errorsU3.append(error(dfresult[index], dfresult[\"actual\"]))"
   ]
  },
  {
   "cell_type": "code",
   "execution_count": 317,
   "metadata": {},
   "outputs": [],
   "source": [
    "errorsU2 = errorsU1[4:]\n",
    "errorsU1 = errorsU1[:4]"
   ]
  },
  {
   "cell_type": "markdown",
   "metadata": {},
   "source": [
    "### Ratings legends are as follows\n",
    "gnb = Gaussian Naive Bayes<br>\n",
    "svm = Support vector machine <br>\n",
    "svr = Support vector regression<br>\n",
    "lr  = Linear regression<br>"
   ]
  },
  {
   "cell_type": "code",
   "execution_count": 318,
   "metadata": {
    "scrolled": true
   },
   "outputs": [
    {
     "data": {
      "text/plain": [
       "Text(0, 0.5, 'Error')"
      ]
     },
     "execution_count": 318,
     "metadata": {},
     "output_type": "execute_result"
    },
    {
     "data": {
      "image/png": "[encoded data removed]",
      "text/plain": [
       "<Figure size 432x288 with 1 Axes>"
      ]
     },
     "metadata": {
      "needs_background": "light"
     },
     "output_type": "display_data"
    }
   ],
   "source": [
    "plt.plot(indexes, errorsU1, \"-o\")\n",
    "plt.xlabel(\"Algorithm Used\")\n",
    "plt.ylabel(\"Error\")\n",
    "# total ratings = 256, user.loc = 1"
   ]
  },
  {
   "cell_type": "code",
   "execution_count": 319,
   "metadata": {},
   "outputs": [
    {
     "data": {
      "text/plain": [
       "Text(0, 0.5, 'Error')"
      ]
     },
     "execution_count": 319,
     "metadata": {},
     "output_type": "execute_result"
    },
    {
     "data": {
      "image/png": "[encoded data removed]",
      "text/plain": [
       "<Figure size 432x288 with 1 Axes>"
      ]
     },
     "metadata": {
      "needs_background": "light"
     },
     "output_type": "display_data"
    }
   ],
   "source": [
    "plt.plot(indexes, errorsU2, \"-o\")\n",
    "plt.xlabel(\"Algorithm Used\")\n",
    "plt.ylabel(\"Error\")\n",
    "# total ratings = 314, user.loc = 6"
   ]
  },
  {
   "cell_type": "code",
   "execution_count": 335,
   "metadata": {},
   "outputs": [
    {
     "data": {
      "text/plain": [
       "Text(0, 0.5, 'Error')"
      ]
     },
     "execution_count": 335,
     "metadata": {},
     "output_type": "execute_result"
    },
    {
     "data": {
      "image/png": "[encoded data removed]",
      "text/plain": [
       "<Figure size 432x288 with 1 Axes>"
      ]
     },
     "metadata": {
      "needs_background": "light"
     },
     "output_type": "display_data"
    }
   ],
   "source": [
    "plt.plot(indexes, errorsU3, \"-o\")\n",
    "plt.xlabel(\"Algorithm Used\")\n",
    "plt.ylabel(\"Error\")\n",
    "# total ratings = 443, user.loc = 21"
   ]
  },
  {
   "cell_type": "code",
   "execution_count": 345,
   "metadata": {},
   "outputs": [
    {
     "data": {
      "text/plain": [
       "<function matplotlib.pyplot.text(x, y, s, fontdict=None, withdash=False, **kwargs)>"
      ]
     },
     "execution_count": 345,
     "metadata": {},
     "output_type": "execute_result"
    },
    {
     "data": {
      "image/png": "[encoded data removed]",
      "text/plain": [
       "<Figure size 432x288 with 1 Axes>"
      ]
     },
     "metadata": {
      "needs_background": "light"
     },
     "output_type": "display_data"
    }
   ],
   "source": [
    "plt.plot(indexes, errorsU1, \"-o\", label=\"256\")\n",
    "plt.plot(indexes, errorsU2, \"-o\", label=\"314\")\n",
    "plt.plot(indexes, errorsU3, \"-o\", label=\"443\")\n",
    "plt.legend(loc=\"upper center\")\n",
    "plt.text"
   ]
  },
  {
   "cell_type": "markdown",
   "metadata": {},
   "source": [
    "# It is clear from above, Linear regression seems to perform better in general"
   ]
  }
 ],
 "metadata": {
  "kernelspec": {
   "display_name": "Python 3",
   "language": "python",
   "name": "python3"
  },
  "language_info": {
   "codemirror_mode": {
    "name": "ipython",
    "version": 3
   },
   "file_extension": ".py",
   "mimetype": "text/x-python",
   "name": "python",
   "nbconvert_exporter": "python",
   "pygments_lexer": "ipython3",
   "version": "3.7.3"
  }
 },
 "nbformat": 4,
 "nbformat_minor": 2
}
